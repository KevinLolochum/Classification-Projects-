{
  "nbformat": 4,
  "nbformat_minor": 0,
  "metadata": {
    "colab": {
      "name": "predicting defaulters - Using Neural Nets ( TF-Keras) ",
      "provenance": [],
      "authorship_tag": "ABX9TyPUrSHH1N0d3nTyyqysteJy",
      "include_colab_link": true
    },
    "kernelspec": {
      "name": "python3",
      "display_name": "Python 3"
    }
  },
  "cells": [
    {
      "cell_type": "markdown",
      "metadata": {
        "id": "view-in-github",
        "colab_type": "text"
      },
      "source": [
        "<a href=\"https://colab.research.google.com/github/KevinLolochum/Deep-Learning-TF-Keras-Theano-PyTorch-/blob/master/predicting_defaulters_Using_Neural_Nets_(_TF_Keras).ipynb\" target=\"_parent\"><img src=\"https://colab.research.google.com/assets/colab-badge.svg\" alt=\"Open In Colab\"/></a>"
      ]
    },
    {
      "cell_type": "markdown",
      "metadata": {
        "id": "X7c2DnrHocvk"
      },
      "source": [
        "High level API solution (Keras)"
      ]
    },
    {
      "cell_type": "code",
      "metadata": {
        "id": "xrELSPAfBt-U"
      },
      "source": [
        "import numpy as np\n",
        "import pandas as pd\n",
        "import matplotlib.pyplot as plt\n",
        "\n",
        "import tensorflow as tf\n",
        "import keras\n"
      ],
      "execution_count": 40,
      "outputs": []
    },
    {
      "cell_type": "markdown",
      "metadata": {
        "id": "FybAM6uhp5dg"
      },
      "source": [
        "Mounting Drive"
      ]
    },
    {
      "cell_type": "code",
      "metadata": {
        "id": "z3C7tWsFpc6J",
        "outputId": "94e6f7f5-d669-40d9-99eb-2703415a5e78",
        "colab": {
          "base_uri": "https://localhost:8080/",
          "height": 34
        }
      },
      "source": [
        "from google.colab import drive\n",
        "\n",
        "drive.mount('/content/gdrive')"
      ],
      "execution_count": 41,
      "outputs": [
        {
          "output_type": "stream",
          "text": [
            "Drive already mounted at /content/gdrive; to attempt to forcibly remount, call drive.mount(\"/content/gdrive\", force_remount=True).\n"
          ],
          "name": "stdout"
        }
      ]
    },
    {
      "cell_type": "markdown",
      "metadata": {
        "id": "RxzMAQLL1dew"
      },
      "source": [
        "Data is relatively  clean but the goal of this colab is not data cleaning"
      ]
    },
    {
      "cell_type": "code",
      "metadata": {
        "id": "B8xWBK_xqk6l",
        "outputId": "3d6c7590-945f-4bf4-c0e8-d067b95b0760",
        "colab": {
          "base_uri": "https://localhost:8080/",
          "height": 127
        }
      },
      "source": [
        "df = pd.read_csv('/content/gdrive/My Drive/Risklab.csv', delimiter = ',')\n",
        "df.head(2)"
      ],
      "execution_count": 4,
      "outputs": [
        {
          "output_type": "execute_result",
          "data": {
            "text/html": [
              "<div>\n",
              "<style scoped>\n",
              "    .dataframe tbody tr th:only-of-type {\n",
              "        vertical-align: middle;\n",
              "    }\n",
              "\n",
              "    .dataframe tbody tr th {\n",
              "        vertical-align: top;\n",
              "    }\n",
              "\n",
              "    .dataframe thead th {\n",
              "        text-align: right;\n",
              "    }\n",
              "</style>\n",
              "<table border=\"1\" class=\"dataframe\">\n",
              "  <thead>\n",
              "    <tr style=\"text-align: right;\">\n",
              "      <th></th>\n",
              "      <th>Credit_Limit</th>\n",
              "      <th>Sex</th>\n",
              "      <th>Education</th>\n",
              "      <th>Marital_Status</th>\n",
              "      <th>Age</th>\n",
              "      <th>Jan_Repay_Status</th>\n",
              "      <th>Previous_Payment_Prior_Jan</th>\n",
              "      <th>Jan_Statement</th>\n",
              "      <th>Feb_Repay_Status</th>\n",
              "      <th>Previous_Payment_Prior_Feb</th>\n",
              "      <th>Feb_Statement</th>\n",
              "      <th>Mar_Repay_Status</th>\n",
              "      <th>Previous_Payment_Prior_Mar</th>\n",
              "      <th>Mar_Statement</th>\n",
              "      <th>Apr_Repay_Status</th>\n",
              "      <th>Previous_Payment_Prior_Apr</th>\n",
              "      <th>Apr_Statement</th>\n",
              "      <th>May_Repay_Status</th>\n",
              "      <th>Previous_Payment_Prior_May</th>\n",
              "      <th>May_Statement</th>\n",
              "      <th>Jun_Repay_Status</th>\n",
              "      <th>Previous_Payment_Prior_Jun</th>\n",
              "      <th>Jun_Statement</th>\n",
              "      <th>July_Payment_Status</th>\n",
              "    </tr>\n",
              "  </thead>\n",
              "  <tbody>\n",
              "    <tr>\n",
              "      <th>0</th>\n",
              "      <td>9600.0</td>\n",
              "      <td>1.0</td>\n",
              "      <td>3.0</td>\n",
              "      <td>3.0</td>\n",
              "      <td>32.0</td>\n",
              "      <td>6.0</td>\n",
              "      <td>110.0</td>\n",
              "      <td>138.0</td>\n",
              "      <td>5.0</td>\n",
              "      <td>2847.0</td>\n",
              "      <td>5298.0</td>\n",
              "      <td>11.0</td>\n",
              "      <td>1692.0</td>\n",
              "      <td>NaN</td>\n",
              "      <td>7.0</td>\n",
              "      <td>331.0</td>\n",
              "      <td>1080.0</td>\n",
              "      <td>12.0</td>\n",
              "      <td>535.0</td>\n",
              "      <td>1671.0</td>\n",
              "      <td>3.0</td>\n",
              "      <td>4800.0</td>\n",
              "      <td>6799.0</td>\n",
              "      <td>1.0</td>\n",
              "    </tr>\n",
              "    <tr>\n",
              "      <th>1</th>\n",
              "      <td>14400.0</td>\n",
              "      <td>2.0</td>\n",
              "      <td>3.0</td>\n",
              "      <td>2.0</td>\n",
              "      <td>30.0</td>\n",
              "      <td>-2.0</td>\n",
              "      <td>0.0</td>\n",
              "      <td>132.0</td>\n",
              "      <td>-2.0</td>\n",
              "      <td>0.0</td>\n",
              "      <td>0.0</td>\n",
              "      <td>-2.0</td>\n",
              "      <td>0.0</td>\n",
              "      <td>0.0</td>\n",
              "      <td>-2.0</td>\n",
              "      <td>0.0</td>\n",
              "      <td>0.0</td>\n",
              "      <td>-2.0</td>\n",
              "      <td>45.0</td>\n",
              "      <td>0.0</td>\n",
              "      <td>-2.0</td>\n",
              "      <td>136.0</td>\n",
              "      <td>45.0</td>\n",
              "      <td>0.0</td>\n",
              "    </tr>\n",
              "  </tbody>\n",
              "</table>\n",
              "</div>"
            ],
            "text/plain": [
              "   Credit_Limit  Sex  ...  Jun_Statement  July_Payment_Status\n",
              "0        9600.0  1.0  ...         6799.0                  1.0\n",
              "1       14400.0  2.0  ...           45.0                  0.0\n",
              "\n",
              "[2 rows x 24 columns]"
            ]
          },
          "metadata": {
            "tags": []
          },
          "execution_count": 4
        }
      ]
    },
    {
      "cell_type": "code",
      "metadata": {
        "id": "vrsknxt72OBm",
        "outputId": "cc137a64-573c-4897-9dcf-0d355012e237",
        "colab": {
          "base_uri": "https://localhost:8080/",
          "height": 34
        }
      },
      "source": [
        "#dtypes are all float\n",
        "df = df.dropna(axis = 0, how='any')\n",
        "df.shape"
      ],
      "execution_count": 5,
      "outputs": [
        {
          "output_type": "execute_result",
          "data": {
            "text/plain": [
              "(30522, 24)"
            ]
          },
          "metadata": {
            "tags": []
          },
          "execution_count": 5
        }
      ]
    },
    {
      "cell_type": "markdown",
      "metadata": {
        "id": "BpJx6UFp_6O-"
      },
      "source": [
        "Checking the min and max for each column to ensure there are no outliers\n",
        "\n",
        "Value minimums and maximums are given in the metadata."
      ]
    },
    {
      "cell_type": "code",
      "metadata": {
        "id": "8jAV3Us437G0",
        "outputId": "cc410d0a-ea95-4e90-c687-d2fbf104b6e6",
        "colab": {
          "base_uri": "https://localhost:8080/",
          "height": 443
        }
      },
      "source": [
        "names = list(df.columns)\n",
        "for name in names:\n",
        "  s = str(name)\n",
        "  print('The min of {col} is {min} while the max is {max}'.format(col = s, min = df[s].min(), max = df[s].max()))"
      ],
      "execution_count": 42,
      "outputs": [
        {
          "output_type": "stream",
          "text": [
            "The min of Credit_Limit is 200.0 while the max is 40100.0\n",
            "The min of Sex is 0.0 while the max is 8.0\n",
            "The min of Education is 0.0 while the max is 6.0\n",
            "The min of Marital_Status is 0.0 while the max is 4.0\n",
            "The min of Age is 15.0 while the max is 102.0\n",
            "The min of Jan_Repay_Status is -2.0 while the max is 12.0\n",
            "The min of Previous_Payment_Prior_Jan is 0.0 while the max is 34942.0\n",
            "The min of Jan_Statement is -6623.0 while the max is 38580.0\n",
            "The min of Feb_Repay_Status is -2.0 while the max is 12.0\n",
            "The min of Previous_Payment_Prior_Feb is 0.0 while the max is 67370.0\n",
            "The min of Feb_Statement is -2791.0 while the max is 39357.0\n",
            "The min of Mar_Repay_Status is -2.0 while the max is 12.0\n",
            "The min of Previous_Payment_Prior_Mar is 0.0 while the max is 35842.0\n",
            "The min of Mar_Statement is -6291.0 while the max is 66564.0\n",
            "The min of Apr_Repay_Status is -2.0 while the max is 12.0\n",
            "The min of Previous_Payment_Prior_Apr is 0.0 while the max is 24840.0\n",
            "The min of Apr_Statement is -6800.0 while the max is 35663.0\n",
            "The min of May_Repay_Status is -2.0 while the max is 12.0\n",
            "The min of Previous_Payment_Prior_May is 0.0 while the max is 17061.0\n",
            "The min of May_Statement is -3253.0 while the max is 37087.0\n",
            "The min of Jun_Repay_Status is -2.0 while the max is 12.0\n",
            "The min of Previous_Payment_Prior_Jun is 0.0 while the max is 21147.0\n",
            "The min of Jun_Statement is -13584.0 while the max is 38467.0\n",
            "The min of July_Payment_Status is 0.0 while the max is 2.0\n"
          ],
          "name": "stdout"
        }
      ]
    },
    {
      "cell_type": "markdown",
      "metadata": {
        "id": "KrVSEHPCx1yj"
      },
      "source": [
        "Comparing with metadata it seems like Education, Sex and Marital_Status have unkown values."
      ]
    },
    {
      "cell_type": "code",
      "metadata": {
        "id": "jsAgjA8h2NPn",
        "outputId": "8dce7412-543b-4a0e-81d4-0052f370eabf",
        "colab": {
          "base_uri": "https://localhost:8080/",
          "height": 34
        }
      },
      "source": [
        "# Unknown values in sex are neglible. Education and Marital status have a value for unknown values so I will replace\n",
        "\n",
        "df = df.replace({'Education': {5.0:4.0, 6.0:4.0},\n",
        "                  'Marital_Status':{4.0:3.0}})\n",
        "df.shape\n",
        "\n"
      ],
      "execution_count": 43,
      "outputs": [
        {
          "output_type": "execute_result",
          "data": {
            "text/plain": [
              "(30522, 24)"
            ]
          },
          "metadata": {
            "tags": []
          },
          "execution_count": 43
        }
      ]
    },
    {
      "cell_type": "code",
      "metadata": {
        "id": "w7bpUshJSUfb",
        "outputId": "84a49fd2-7eb8-41fd-bfe9-14f1396fc02d",
        "colab": {
          "base_uri": "https://localhost:8080/",
          "height": 157
        }
      },
      "source": [
        "# Normalize the data\n",
        "\n",
        "from sklearn.preprocessing import MinMaxScaler\n",
        "\n",
        "\n",
        "# Convert to Numpy array so I can normalize the features, no need to normalize labels\n",
        "Values = df.values\n",
        "Features = Values[:, :-1]\n",
        "Labels = Values[:, -1]\n",
        "Features = Features.astype('float32')\n",
        "Scaler = MinMaxScaler(feature_range=(0, 1))\n",
        "Normalized = Scaler.fit_transform(Features)\n",
        "\n",
        "# Change datatype of Labels to categorical and merge the two dataframes again\n",
        "df1 = pd.DataFrame(Labels).astype('uint8')\n",
        "df2 = pd.DataFrame(Normalized)\n",
        "df3 = pd.merge(df2, df1, left_index= True, right_index = True)\n",
        "\n",
        "#Deleting outliers in category\n",
        "df3 = df3[(df3['0_y'] <= 1)]\n",
        "df3.head(3)\n"
      ],
      "execution_count": 44,
      "outputs": [
        {
          "output_type": "execute_result",
          "data": {
            "text/html": [
              "<div>\n",
              "<style scoped>\n",
              "    .dataframe tbody tr th:only-of-type {\n",
              "        vertical-align: middle;\n",
              "    }\n",
              "\n",
              "    .dataframe tbody tr th {\n",
              "        vertical-align: top;\n",
              "    }\n",
              "\n",
              "    .dataframe thead th {\n",
              "        text-align: right;\n",
              "    }\n",
              "</style>\n",
              "<table border=\"1\" class=\"dataframe\">\n",
              "  <thead>\n",
              "    <tr style=\"text-align: right;\">\n",
              "      <th></th>\n",
              "      <th>0_x</th>\n",
              "      <th>1</th>\n",
              "      <th>2</th>\n",
              "      <th>3</th>\n",
              "      <th>4</th>\n",
              "      <th>5</th>\n",
              "      <th>6</th>\n",
              "      <th>7</th>\n",
              "      <th>8</th>\n",
              "      <th>9</th>\n",
              "      <th>10</th>\n",
              "      <th>11</th>\n",
              "      <th>12</th>\n",
              "      <th>13</th>\n",
              "      <th>14</th>\n",
              "      <th>15</th>\n",
              "      <th>16</th>\n",
              "      <th>17</th>\n",
              "      <th>18</th>\n",
              "      <th>19</th>\n",
              "      <th>20</th>\n",
              "      <th>21</th>\n",
              "      <th>22</th>\n",
              "      <th>0_y</th>\n",
              "    </tr>\n",
              "  </thead>\n",
              "  <tbody>\n",
              "    <tr>\n",
              "      <th>0</th>\n",
              "      <td>0.355890</td>\n",
              "      <td>0.250</td>\n",
              "      <td>0.75</td>\n",
              "      <td>0.666667</td>\n",
              "      <td>0.172414</td>\n",
              "      <td>0.000000</td>\n",
              "      <td>0.000000</td>\n",
              "      <td>0.149437</td>\n",
              "      <td>0.000000</td>\n",
              "      <td>0.000000</td>\n",
              "      <td>0.066219</td>\n",
              "      <td>0.000000</td>\n",
              "      <td>0.000000</td>\n",
              "      <td>0.086350</td>\n",
              "      <td>0.000000</td>\n",
              "      <td>0.000000</td>\n",
              "      <td>0.160139</td>\n",
              "      <td>0.000000</td>\n",
              "      <td>0.002638</td>\n",
              "      <td>0.080640</td>\n",
              "      <td>0.000000</td>\n",
              "      <td>0.006431</td>\n",
              "      <td>0.261839</td>\n",
              "      <td>0</td>\n",
              "    </tr>\n",
              "    <tr>\n",
              "      <th>1</th>\n",
              "      <td>0.197995</td>\n",
              "      <td>0.125</td>\n",
              "      <td>0.25</td>\n",
              "      <td>0.666667</td>\n",
              "      <td>0.160920</td>\n",
              "      <td>0.071429</td>\n",
              "      <td>0.003806</td>\n",
              "      <td>0.146672</td>\n",
              "      <td>0.071429</td>\n",
              "      <td>0.025234</td>\n",
              "      <td>0.069351</td>\n",
              "      <td>0.071429</td>\n",
              "      <td>0.000000</td>\n",
              "      <td>0.107501</td>\n",
              "      <td>0.071429</td>\n",
              "      <td>0.030233</td>\n",
              "      <td>0.160045</td>\n",
              "      <td>0.071429</td>\n",
              "      <td>0.029189</td>\n",
              "      <td>0.099157</td>\n",
              "      <td>0.071429</td>\n",
              "      <td>0.018017</td>\n",
              "      <td>0.270504</td>\n",
              "      <td>0</td>\n",
              "    </tr>\n",
              "    <tr>\n",
              "      <th>2</th>\n",
              "      <td>0.062657</td>\n",
              "      <td>0.250</td>\n",
              "      <td>0.50</td>\n",
              "      <td>0.333333</td>\n",
              "      <td>0.183908</td>\n",
              "      <td>0.142857</td>\n",
              "      <td>0.002976</td>\n",
              "      <td>0.210473</td>\n",
              "      <td>0.142857</td>\n",
              "      <td>0.002078</td>\n",
              "      <td>0.134170</td>\n",
              "      <td>0.142857</td>\n",
              "      <td>0.003348</td>\n",
              "      <td>0.126127</td>\n",
              "      <td>0.142857</td>\n",
              "      <td>0.001610</td>\n",
              "      <td>0.227068</td>\n",
              "      <td>0.142857</td>\n",
              "      <td>0.003517</td>\n",
              "      <td>0.110064</td>\n",
              "      <td>0.142857</td>\n",
              "      <td>0.000898</td>\n",
              "      <td>0.283126</td>\n",
              "      <td>0</td>\n",
              "    </tr>\n",
              "  </tbody>\n",
              "</table>\n",
              "</div>"
            ],
            "text/plain": [
              "        0_x      1     2         3  ...        20        21        22  0_y\n",
              "0  0.355890  0.250  0.75  0.666667  ...  0.000000  0.006431  0.261839    0\n",
              "1  0.197995  0.125  0.25  0.666667  ...  0.071429  0.018017  0.270504    0\n",
              "2  0.062657  0.250  0.50  0.333333  ...  0.142857  0.000898  0.283126    0\n",
              "\n",
              "[3 rows x 24 columns]"
            ]
          },
          "metadata": {
            "tags": []
          },
          "execution_count": 44
        }
      ]
    },
    {
      "cell_type": "code",
      "metadata": {
        "id": "MP_ODG1iZl3l",
        "outputId": "bdad21dd-f1db-4385-c4c1-3c060de4b07e",
        "colab": {
          "base_uri": "https://localhost:8080/",
          "height": 34
        }
      },
      "source": [
        "df3.shape"
      ],
      "execution_count": 45,
      "outputs": [
        {
          "output_type": "execute_result",
          "data": {
            "text/plain": [
              "(30521, 24)"
            ]
          },
          "metadata": {
            "tags": []
          },
          "execution_count": 45
        }
      ]
    },
    {
      "cell_type": "markdown",
      "metadata": {
        "id": "eLRdN4XNKe83"
      },
      "source": [
        "Modelling"
      ]
    },
    {
      "cell_type": "code",
      "metadata": {
        "id": "hn01b7hUEc29",
        "outputId": "2e439416-fef8-40a6-ea81-320d0a8fef92",
        "colab": {
          "base_uri": "https://localhost:8080/",
          "height": 34
        }
      },
      "source": [
        "# Split the data into training and testing\n",
        "\n",
        "values = df3.values\n",
        "splt = int(len(values)*0.8)\n",
        "X_train = values[:splt, :-1]\n",
        "Y_train =values[:splt, -1]\n",
        "X_test =values[splt:, :-1]\n",
        "Y_test =values[splt:, -1]\n",
        "\n",
        "# Shape of the data\n",
        "\n",
        "print(X_train.shape, Y_train.shape, X_test.shape, Y_test.shape)\n",
        "\n"
      ],
      "execution_count": 46,
      "outputs": [
        {
          "output_type": "stream",
          "text": [
            "(24416, 23) (24416,) (6105, 23) (6105,)\n"
          ],
          "name": "stdout"
        }
      ]
    },
    {
      "cell_type": "markdown",
      "metadata": {
        "id": "Mmrd4E8mQfHs"
      },
      "source": [
        "Gaussian Naive Bayes GNB."
      ]
    },
    {
      "cell_type": "code",
      "metadata": {
        "id": "jfys5N5NQXk-",
        "outputId": "a9f49266-a472-4c40-beb9-480397c3c519",
        "colab": {
          "base_uri": "https://localhost:8080/",
          "height": 34
        }
      },
      "source": [
        "from sklearn.naive_bayes import GaussianNB\n",
        "\n",
        "model = GaussianNB()\n",
        "model.fit(X_train, Y_train)"
      ],
      "execution_count": 47,
      "outputs": [
        {
          "output_type": "execute_result",
          "data": {
            "text/plain": [
              "GaussianNB(priors=None, var_smoothing=1e-09)"
            ]
          },
          "metadata": {
            "tags": []
          },
          "execution_count": 47
        }
      ]
    },
    {
      "cell_type": "code",
      "metadata": {
        "id": "7s0pCX7vKg5Y",
        "outputId": "7e02ae50-dfc5-48af-8a2d-5914e22fe1b6",
        "colab": {
          "base_uri": "https://localhost:8080/",
          "height": 278
        }
      },
      "source": [
        "# Predicting Y values using trained model\n",
        "\n",
        "Y_pred = model.predict(X_test)\n",
        "\n",
        "# Model accuracy using confusion matrix\n",
        "from sklearn.metrics import confusion_matrix\n",
        "import seaborn as sns\n",
        "mat = confusion_matrix(Y_test, Y_pred)\n",
        "\n",
        "sns.heatmap(mat.T, square = True, annot = True, fmt = 'd', cbar = False)\n",
        "plt.xlabel('True label')\n",
        "plt.ylabel('Predicted Label');"
      ],
      "execution_count": 49,
      "outputs": [
        {
          "output_type": "display_data",
          "data": {
            "image/png": "[encoded data removed]",
            "text/plain": [
              "<Figure size 432x288 with 1 Axes>"
            ]
          },
          "metadata": {
            "tags": [],
            "needs_background": "light"
          }
        }
      ]
    },
    {
      "cell_type": "code",
      "metadata": {
        "id": "dKp9HgrRhpzl",
        "outputId": "6a482b46-16f9-4539-a7c0-b66528ef9097",
        "colab": {
          "base_uri": "https://localhost:8080/",
          "height": 34
        }
      },
      "source": [
        "from sklearn.metrics import accuracy_score\n",
        "\n",
        "accuracy_score(Y_test, Y_pred)"
      ],
      "execution_count": 50,
      "outputs": [
        {
          "output_type": "execute_result",
          "data": {
            "text/plain": [
              "0.7921375921375922"
            ]
          },
          "metadata": {
            "tags": []
          },
          "execution_count": 50
        }
      ]
    },
    {
      "cell_type": "markdown",
      "metadata": {
        "id": "QhqTU4OUTHzI"
      },
      "source": [
        "Model attains an accuracy of ~80% in classifying the customers, this is not bad."
      ]
    },
    {
      "cell_type": "markdown",
      "metadata": {
        "id": "YHKafC44Qtcs"
      },
      "source": [
        "Bagging classifier"
      ]
    },
    {
      "cell_type": "markdown",
      "metadata": {
        "id": "1kwkheYkS7PK"
      },
      "source": [
        "Bagging is an ensembe method that combines the predictions of weak classifiers like decision trees that are trained on subsets of data.\n",
        "The goal is to reduce variance, which makes sense for this data that has high cardinality. In this example I am using sample vector classifier (SVC)."
      ]
    },
    {
      "cell_type": "code",
      "metadata": {
        "id": "Q5LwWYo4QszK",
        "outputId": "71e6c3bb-afdc-4c0f-ac81-3d48206263fc",
        "colab": {
          "base_uri": "https://localhost:8080/",
          "height": 34
        }
      },
      "source": [
        "from sklearn.svm import SVC\n",
        "from sklearn.ensemble import BaggingClassifier\n",
        "\n",
        "model = BaggingClassifier(base_estimator= SVC(), n_estimators = 10, random_state = 0).fit(X_train, Y_train)\n",
        "\n",
        "# predict Y\n",
        "ypred = model.predict(X_test)\n",
        "\n",
        "# Model performance\n",
        "accuracy_score(Y_test, ypred)\n"
      ],
      "execution_count": 56,
      "outputs": [
        {
          "output_type": "execute_result",
          "data": {
            "text/plain": [
              "0.8149058149058149"
            ]
          },
          "metadata": {
            "tags": []
          },
          "execution_count": 56
        }
      ]
    },
    {
      "cell_type": "markdown",
      "metadata": {
        "id": "fzHkSn6_So13"
      },
      "source": [
        "Achieves slightly better than Guassian Naive Bayes"
      ]
    },
    {
      "cell_type": "markdown",
      "metadata": {
        "id": "Gp1XZBN330am"
      },
      "source": [
        "Gradient boosting using XGBoost"
      ]
    },
    {
      "cell_type": "markdown",
      "metadata": {
        "id": "MIaA7EFCiKCM"
      },
      "source": [
        "This method fits learners (decision trees) in a sequence so that each learner is an improvement of the previous learner. When an input is misclassified, more weight is placed on it in the subsequent learner to improve accuracy."
      ]
    },
    {
      "cell_type": "code",
      "metadata": {
        "id": "9FyyShATezYO",
        "outputId": "3c292687-e8de-4151-dbaf-9293963990df",
        "colab": {
          "base_uri": "https://localhost:8080/",
          "height": 34
        }
      },
      "source": [
        "from sklearn.model_selection import RepeatedStratifiedKFold\n",
        "from xgboost import XGBClassifier\n",
        "from sklearn.model_selection import cross_val_score\n",
        "from numpy import mean, std\n",
        "\n",
        "model = XGBClassifier(objective = 'binary:logistic', )\n",
        "cv = RepeatedStratifiedKFold(n_splits = 20, n_repeats = 3, random_state=1)\n",
        "n_scores = cross_val_score(model, X_test, Y_test, scoring='accuracy', \n",
        "                           cv=cv, n_jobs=-1, error_score='raise')\n",
        "\n",
        "print('Accuracy: %.3f (%.3f)' % (mean(n_scores), std(n_scores)))\n"
      ],
      "execution_count": 58,
      "outputs": [
        {
          "output_type": "stream",
          "text": [
            "Accuracy: 0.817 (0.018)\n"
          ],
          "name": "stdout"
        }
      ]
    },
    {
      "cell_type": "markdown",
      "metadata": {
        "id": "20t1CGg-kiuN"
      },
      "source": [
        "\n",
        "Neural nets might also improve the accuracy of our model."
      ]
    },
    {
      "cell_type": "markdown",
      "metadata": {
        "id": "z-Zoy7iTtzI3"
      },
      "source": [
        "Deep Learning Neural Nets"
      ]
    },
    {
      "cell_type": "code",
      "metadata": {
        "id": "rLwNVpdptyaf"
      },
      "source": [
        "# Using Neural Nets\n",
        "from tensorflow.keras import Sequential\n",
        "from tensorflow.keras.layers import Dense\n",
        "\n",
        "model = Sequential()\n",
        "model.add(Dense(64, input_dim = 23, activation = 'relu'))\n",
        "model.add(Dense(32, activation = 'relu'))\n",
        "model.add(Dense(1, activation = 'sigmoid'))"
      ],
      "execution_count": 79,
      "outputs": []
    },
    {
      "cell_type": "code",
      "metadata": {
        "id": "LFh_G0DWChNV"
      },
      "source": [
        "# Compiling\n",
        "model.compile(optimizer = 'adam',\n",
        "              loss = 'binary_crossentropy',\n",
        "              metrics = ['accuracy'])"
      ],
      "execution_count": 80,
      "outputs": []
    },
    {
      "cell_type": "code",
      "metadata": {
        "id": "wla0dIpIG7hA",
        "outputId": "7dfa605e-c183-414f-b50b-8b39a86ec7ab",
        "colab": {
          "base_uri": "https://localhost:8080/",
          "height": 1000
        }
      },
      "source": [
        "# training and predicting\n",
        "epochs = 100\n",
        "Batch_size = 2000\n",
        "\n",
        "history = model.fit(X_train, Y_train, epochs = epochs, batch_size = Batch_size,\n",
        "                    validation_data=(X_test, Y_test), verbose = 1, shuffle = True)\n",
        "\n",
        "# Plotting accuracy and loss\n",
        "\n",
        "plt.plot(history.history['accuracy'], label='train')\n",
        "plt.plot(history.history['val_accuracy'], label='test')\n",
        "plt.title('accuracy')\n",
        "plt.legend()\n",
        "plt.show()\n",
        "\n",
        "plt.plot(history.history['loss'], label='train')\n",
        "plt.plot(history.history['val_loss'], label='test')\n",
        "plt.title('accuracy')\n",
        "plt.legend()\n",
        "plt.show()"
      ],
      "execution_count": 81,
      "outputs": [
        {
          "output_type": "stream",
          "text": [
            "Epoch 1/100\n",
            "13/13 [==============================] - 0s 13ms/step - loss: 0.6465 - accuracy: 0.7457 - val_loss: 0.6008 - val_accuracy: 0.7736\n",
            "Epoch 2/100\n",
            "13/13 [==============================] - 0s 5ms/step - loss: 0.5777 - accuracy: 0.7758 - val_loss: 0.5540 - val_accuracy: 0.7736\n",
            "Epoch 3/100\n",
            "13/13 [==============================] - 0s 5ms/step - loss: 0.5424 - accuracy: 0.7758 - val_loss: 0.5354 - val_accuracy: 0.7736\n",
            "Epoch 4/100\n",
            "13/13 [==============================] - 0s 5ms/step - loss: 0.5278 - accuracy: 0.7758 - val_loss: 0.5213 - val_accuracy: 0.7736\n",
            "Epoch 5/100\n",
            "13/13 [==============================] - 0s 6ms/step - loss: 0.5120 - accuracy: 0.7758 - val_loss: 0.5068 - val_accuracy: 0.7735\n",
            "Epoch 6/100\n",
            "13/13 [==============================] - 0s 6ms/step - loss: 0.4991 - accuracy: 0.7765 - val_loss: 0.4958 - val_accuracy: 0.7730\n",
            "Epoch 7/100\n",
            "13/13 [==============================] - 0s 5ms/step - loss: 0.4888 - accuracy: 0.7808 - val_loss: 0.4878 - val_accuracy: 0.7810\n",
            "Epoch 8/100\n",
            "13/13 [==============================] - 0s 5ms/step - loss: 0.4821 - accuracy: 0.7863 - val_loss: 0.4835 - val_accuracy: 0.7854\n",
            "Epoch 9/100\n",
            "13/13 [==============================] - 0s 6ms/step - loss: 0.4786 - accuracy: 0.7912 - val_loss: 0.4805 - val_accuracy: 0.7938\n",
            "Epoch 10/100\n",
            "13/13 [==============================] - 0s 5ms/step - loss: 0.4762 - accuracy: 0.7940 - val_loss: 0.4785 - val_accuracy: 0.7962\n",
            "Epoch 11/100\n",
            "13/13 [==============================] - 0s 5ms/step - loss: 0.4739 - accuracy: 0.7960 - val_loss: 0.4768 - val_accuracy: 0.7967\n",
            "Epoch 12/100\n",
            "13/13 [==============================] - 0s 5ms/step - loss: 0.4722 - accuracy: 0.7979 - val_loss: 0.4754 - val_accuracy: 0.7946\n",
            "Epoch 13/100\n",
            "13/13 [==============================] - 0s 6ms/step - loss: 0.4705 - accuracy: 0.7976 - val_loss: 0.4736 - val_accuracy: 0.7964\n",
            "Epoch 14/100\n",
            "13/13 [==============================] - 0s 6ms/step - loss: 0.4689 - accuracy: 0.7996 - val_loss: 0.4723 - val_accuracy: 0.7987\n",
            "Epoch 15/100\n",
            "13/13 [==============================] - 0s 5ms/step - loss: 0.4676 - accuracy: 0.8017 - val_loss: 0.4719 - val_accuracy: 0.7964\n",
            "Epoch 16/100\n",
            "13/13 [==============================] - 0s 5ms/step - loss: 0.4661 - accuracy: 0.8028 - val_loss: 0.4694 - val_accuracy: 0.7990\n",
            "Epoch 17/100\n",
            "13/13 [==============================] - 0s 5ms/step - loss: 0.4647 - accuracy: 0.8036 - val_loss: 0.4681 - val_accuracy: 0.8015\n",
            "Epoch 18/100\n",
            "13/13 [==============================] - 0s 5ms/step - loss: 0.4634 - accuracy: 0.8050 - val_loss: 0.4669 - val_accuracy: 0.8033\n",
            "Epoch 19/100\n",
            "13/13 [==============================] - 0s 5ms/step - loss: 0.4622 - accuracy: 0.8050 - val_loss: 0.4656 - val_accuracy: 0.8034\n",
            "Epoch 20/100\n",
            "13/13 [==============================] - 0s 5ms/step - loss: 0.4609 - accuracy: 0.8051 - val_loss: 0.4641 - val_accuracy: 0.8025\n",
            "Epoch 21/100\n",
            "13/13 [==============================] - 0s 6ms/step - loss: 0.4597 - accuracy: 0.8058 - val_loss: 0.4629 - val_accuracy: 0.8028\n",
            "Epoch 22/100\n",
            "13/13 [==============================] - 0s 6ms/step - loss: 0.4583 - accuracy: 0.8065 - val_loss: 0.4617 - val_accuracy: 0.8029\n",
            "Epoch 23/100\n",
            "13/13 [==============================] - 0s 5ms/step - loss: 0.4571 - accuracy: 0.8071 - val_loss: 0.4606 - val_accuracy: 0.8031\n",
            "Epoch 24/100\n",
            "13/13 [==============================] - 0s 5ms/step - loss: 0.4559 - accuracy: 0.8073 - val_loss: 0.4591 - val_accuracy: 0.8056\n",
            "Epoch 25/100\n",
            "13/13 [==============================] - 0s 5ms/step - loss: 0.4547 - accuracy: 0.8075 - val_loss: 0.4577 - val_accuracy: 0.8079\n",
            "Epoch 26/100\n",
            "13/13 [==============================] - 0s 5ms/step - loss: 0.4536 - accuracy: 0.8095 - val_loss: 0.4569 - val_accuracy: 0.8062\n",
            "Epoch 27/100\n",
            "13/13 [==============================] - 0s 6ms/step - loss: 0.4527 - accuracy: 0.8095 - val_loss: 0.4557 - val_accuracy: 0.8074\n",
            "Epoch 28/100\n",
            "13/13 [==============================] - 0s 5ms/step - loss: 0.4517 - accuracy: 0.8097 - val_loss: 0.4544 - val_accuracy: 0.8098\n",
            "Epoch 29/100\n",
            "13/13 [==============================] - 0s 6ms/step - loss: 0.4506 - accuracy: 0.8099 - val_loss: 0.4534 - val_accuracy: 0.8095\n",
            "Epoch 30/100\n",
            "13/13 [==============================] - 0s 5ms/step - loss: 0.4498 - accuracy: 0.8105 - val_loss: 0.4526 - val_accuracy: 0.8102\n",
            "Epoch 31/100\n",
            "13/13 [==============================] - 0s 5ms/step - loss: 0.4490 - accuracy: 0.8108 - val_loss: 0.4518 - val_accuracy: 0.8100\n",
            "Epoch 32/100\n",
            "13/13 [==============================] - 0s 5ms/step - loss: 0.4482 - accuracy: 0.8111 - val_loss: 0.4510 - val_accuracy: 0.8105\n",
            "Epoch 33/100\n",
            "13/13 [==============================] - 0s 5ms/step - loss: 0.4480 - accuracy: 0.8123 - val_loss: 0.4504 - val_accuracy: 0.8103\n",
            "Epoch 34/100\n",
            "13/13 [==============================] - 0s 5ms/step - loss: 0.4470 - accuracy: 0.8126 - val_loss: 0.4503 - val_accuracy: 0.8103\n",
            "Epoch 35/100\n",
            "13/13 [==============================] - 0s 5ms/step - loss: 0.4466 - accuracy: 0.8132 - val_loss: 0.4491 - val_accuracy: 0.8108\n",
            "Epoch 36/100\n",
            "13/13 [==============================] - 0s 5ms/step - loss: 0.4462 - accuracy: 0.8125 - val_loss: 0.4486 - val_accuracy: 0.8115\n",
            "Epoch 37/100\n",
            "13/13 [==============================] - 0s 5ms/step - loss: 0.4455 - accuracy: 0.8134 - val_loss: 0.4482 - val_accuracy: 0.8128\n",
            "Epoch 38/100\n",
            "13/13 [==============================] - 0s 5ms/step - loss: 0.4452 - accuracy: 0.8142 - val_loss: 0.4477 - val_accuracy: 0.8124\n",
            "Epoch 39/100\n",
            "13/13 [==============================] - 0s 5ms/step - loss: 0.4449 - accuracy: 0.8143 - val_loss: 0.4472 - val_accuracy: 0.8128\n",
            "Epoch 40/100\n",
            "13/13 [==============================] - 0s 6ms/step - loss: 0.4450 - accuracy: 0.8137 - val_loss: 0.4470 - val_accuracy: 0.8134\n",
            "Epoch 41/100\n",
            "13/13 [==============================] - 0s 6ms/step - loss: 0.4443 - accuracy: 0.8141 - val_loss: 0.4466 - val_accuracy: 0.8133\n",
            "Epoch 42/100\n",
            "13/13 [==============================] - 0s 5ms/step - loss: 0.4441 - accuracy: 0.8150 - val_loss: 0.4465 - val_accuracy: 0.8138\n",
            "Epoch 43/100\n",
            "13/13 [==============================] - 0s 6ms/step - loss: 0.4438 - accuracy: 0.8137 - val_loss: 0.4466 - val_accuracy: 0.8128\n",
            "Epoch 44/100\n",
            "13/13 [==============================] - 0s 6ms/step - loss: 0.4435 - accuracy: 0.8149 - val_loss: 0.4465 - val_accuracy: 0.8124\n",
            "Epoch 45/100\n",
            "13/13 [==============================] - 0s 5ms/step - loss: 0.4432 - accuracy: 0.8141 - val_loss: 0.4453 - val_accuracy: 0.8147\n",
            "Epoch 46/100\n",
            "13/13 [==============================] - 0s 5ms/step - loss: 0.4426 - accuracy: 0.8155 - val_loss: 0.4447 - val_accuracy: 0.8152\n",
            "Epoch 47/100\n",
            "13/13 [==============================] - 0s 7ms/step - loss: 0.4429 - accuracy: 0.8157 - val_loss: 0.4446 - val_accuracy: 0.8154\n",
            "Epoch 48/100\n",
            "13/13 [==============================] - 0s 6ms/step - loss: 0.4425 - accuracy: 0.8152 - val_loss: 0.4443 - val_accuracy: 0.8157\n",
            "Epoch 49/100\n",
            "13/13 [==============================] - 0s 5ms/step - loss: 0.4422 - accuracy: 0.8152 - val_loss: 0.4451 - val_accuracy: 0.8151\n",
            "Epoch 50/100\n",
            "13/13 [==============================] - 0s 6ms/step - loss: 0.4426 - accuracy: 0.8165 - val_loss: 0.4438 - val_accuracy: 0.8156\n",
            "Epoch 51/100\n",
            "13/13 [==============================] - 0s 8ms/step - loss: 0.4411 - accuracy: 0.8168 - val_loss: 0.4436 - val_accuracy: 0.8161\n",
            "Epoch 52/100\n",
            "13/13 [==============================] - 0s 6ms/step - loss: 0.4410 - accuracy: 0.8161 - val_loss: 0.4440 - val_accuracy: 0.8151\n",
            "Epoch 53/100\n",
            "13/13 [==============================] - 0s 6ms/step - loss: 0.4413 - accuracy: 0.8161 - val_loss: 0.4432 - val_accuracy: 0.8157\n",
            "Epoch 54/100\n",
            "13/13 [==============================] - 0s 5ms/step - loss: 0.4406 - accuracy: 0.8168 - val_loss: 0.4427 - val_accuracy: 0.8161\n",
            "Epoch 55/100\n",
            "13/13 [==============================] - 0s 5ms/step - loss: 0.4403 - accuracy: 0.8174 - val_loss: 0.4426 - val_accuracy: 0.8167\n",
            "Epoch 56/100\n",
            "13/13 [==============================] - 0s 5ms/step - loss: 0.4401 - accuracy: 0.8168 - val_loss: 0.4427 - val_accuracy: 0.8167\n",
            "Epoch 57/100\n",
            "13/13 [==============================] - 0s 5ms/step - loss: 0.4398 - accuracy: 0.8170 - val_loss: 0.4429 - val_accuracy: 0.8161\n",
            "Epoch 58/100\n",
            "13/13 [==============================] - 0s 5ms/step - loss: 0.4397 - accuracy: 0.8171 - val_loss: 0.4419 - val_accuracy: 0.8179\n",
            "Epoch 59/100\n",
            "13/13 [==============================] - 0s 5ms/step - loss: 0.4397 - accuracy: 0.8176 - val_loss: 0.4423 - val_accuracy: 0.8169\n",
            "Epoch 60/100\n",
            "13/13 [==============================] - 0s 5ms/step - loss: 0.4403 - accuracy: 0.8167 - val_loss: 0.4419 - val_accuracy: 0.8177\n",
            "Epoch 61/100\n",
            "13/13 [==============================] - 0s 5ms/step - loss: 0.4394 - accuracy: 0.8168 - val_loss: 0.4416 - val_accuracy: 0.8167\n",
            "Epoch 62/100\n",
            "13/13 [==============================] - 0s 5ms/step - loss: 0.4392 - accuracy: 0.8170 - val_loss: 0.4418 - val_accuracy: 0.8172\n",
            "Epoch 63/100\n",
            "13/13 [==============================] - 0s 6ms/step - loss: 0.4388 - accuracy: 0.8175 - val_loss: 0.4408 - val_accuracy: 0.8174\n",
            "Epoch 64/100\n",
            "13/13 [==============================] - 0s 6ms/step - loss: 0.4387 - accuracy: 0.8170 - val_loss: 0.4407 - val_accuracy: 0.8172\n",
            "Epoch 65/100\n",
            "13/13 [==============================] - 0s 6ms/step - loss: 0.4383 - accuracy: 0.8172 - val_loss: 0.4404 - val_accuracy: 0.8174\n",
            "Epoch 66/100\n",
            "13/13 [==============================] - 0s 6ms/step - loss: 0.4383 - accuracy: 0.8175 - val_loss: 0.4402 - val_accuracy: 0.8182\n",
            "Epoch 67/100\n",
            "13/13 [==============================] - 0s 5ms/step - loss: 0.4379 - accuracy: 0.8175 - val_loss: 0.4401 - val_accuracy: 0.8183\n",
            "Epoch 68/100\n",
            "13/13 [==============================] - 0s 5ms/step - loss: 0.4378 - accuracy: 0.8182 - val_loss: 0.4408 - val_accuracy: 0.8161\n",
            "Epoch 69/100\n",
            "13/13 [==============================] - 0s 5ms/step - loss: 0.4382 - accuracy: 0.8168 - val_loss: 0.4400 - val_accuracy: 0.8179\n",
            "Epoch 70/100\n",
            "13/13 [==============================] - 0s 5ms/step - loss: 0.4377 - accuracy: 0.8167 - val_loss: 0.4401 - val_accuracy: 0.8170\n",
            "Epoch 71/100\n",
            "13/13 [==============================] - 0s 5ms/step - loss: 0.4381 - accuracy: 0.8177 - val_loss: 0.4402 - val_accuracy: 0.8154\n",
            "Epoch 72/100\n",
            "13/13 [==============================] - 0s 5ms/step - loss: 0.4377 - accuracy: 0.8180 - val_loss: 0.4402 - val_accuracy: 0.8172\n",
            "Epoch 73/100\n",
            "13/13 [==============================] - 0s 6ms/step - loss: 0.4374 - accuracy: 0.8170 - val_loss: 0.4405 - val_accuracy: 0.8152\n",
            "Epoch 74/100\n",
            "13/13 [==============================] - 0s 6ms/step - loss: 0.4373 - accuracy: 0.8183 - val_loss: 0.4392 - val_accuracy: 0.8185\n",
            "Epoch 75/100\n",
            "13/13 [==============================] - 0s 5ms/step - loss: 0.4369 - accuracy: 0.8176 - val_loss: 0.4391 - val_accuracy: 0.8169\n",
            "Epoch 76/100\n",
            "13/13 [==============================] - 0s 5ms/step - loss: 0.4366 - accuracy: 0.8176 - val_loss: 0.4389 - val_accuracy: 0.8182\n",
            "Epoch 77/100\n",
            "13/13 [==============================] - 0s 7ms/step - loss: 0.4367 - accuracy: 0.8180 - val_loss: 0.4394 - val_accuracy: 0.8188\n",
            "Epoch 78/100\n",
            "13/13 [==============================] - 0s 5ms/step - loss: 0.4363 - accuracy: 0.8178 - val_loss: 0.4388 - val_accuracy: 0.8188\n",
            "Epoch 79/100\n",
            "13/13 [==============================] - 0s 5ms/step - loss: 0.4362 - accuracy: 0.8176 - val_loss: 0.4384 - val_accuracy: 0.8183\n",
            "Epoch 80/100\n",
            "13/13 [==============================] - 0s 5ms/step - loss: 0.4358 - accuracy: 0.8181 - val_loss: 0.4381 - val_accuracy: 0.8188\n",
            "Epoch 81/100\n",
            "13/13 [==============================] - 0s 5ms/step - loss: 0.4361 - accuracy: 0.8181 - val_loss: 0.4380 - val_accuracy: 0.8188\n",
            "Epoch 82/100\n",
            "13/13 [==============================] - 0s 6ms/step - loss: 0.4356 - accuracy: 0.8177 - val_loss: 0.4385 - val_accuracy: 0.8187\n",
            "Epoch 83/100\n",
            "13/13 [==============================] - 0s 5ms/step - loss: 0.4360 - accuracy: 0.8173 - val_loss: 0.4379 - val_accuracy: 0.8190\n",
            "Epoch 84/100\n",
            "13/13 [==============================] - 0s 5ms/step - loss: 0.4353 - accuracy: 0.8174 - val_loss: 0.4387 - val_accuracy: 0.8187\n",
            "Epoch 85/100\n",
            "13/13 [==============================] - 0s 5ms/step - loss: 0.4358 - accuracy: 0.8179 - val_loss: 0.4389 - val_accuracy: 0.8187\n",
            "Epoch 86/100\n",
            "13/13 [==============================] - 0s 5ms/step - loss: 0.4355 - accuracy: 0.8179 - val_loss: 0.4394 - val_accuracy: 0.8188\n",
            "Epoch 87/100\n",
            "13/13 [==============================] - 0s 5ms/step - loss: 0.4353 - accuracy: 0.8171 - val_loss: 0.4374 - val_accuracy: 0.8188\n",
            "Epoch 88/100\n",
            "13/13 [==============================] - 0s 5ms/step - loss: 0.4349 - accuracy: 0.8178 - val_loss: 0.4374 - val_accuracy: 0.8193\n",
            "Epoch 89/100\n",
            "13/13 [==============================] - 0s 5ms/step - loss: 0.4355 - accuracy: 0.8166 - val_loss: 0.4384 - val_accuracy: 0.8190\n",
            "Epoch 90/100\n",
            "13/13 [==============================] - 0s 5ms/step - loss: 0.4349 - accuracy: 0.8181 - val_loss: 0.4373 - val_accuracy: 0.8187\n",
            "Epoch 91/100\n",
            "13/13 [==============================] - 0s 6ms/step - loss: 0.4344 - accuracy: 0.8183 - val_loss: 0.4371 - val_accuracy: 0.8195\n",
            "Epoch 92/100\n",
            "13/13 [==============================] - 0s 6ms/step - loss: 0.4341 - accuracy: 0.8185 - val_loss: 0.4370 - val_accuracy: 0.8190\n",
            "Epoch 93/100\n",
            "13/13 [==============================] - 0s 5ms/step - loss: 0.4341 - accuracy: 0.8183 - val_loss: 0.4379 - val_accuracy: 0.8195\n",
            "Epoch 94/100\n",
            "13/13 [==============================] - 0s 5ms/step - loss: 0.4342 - accuracy: 0.8184 - val_loss: 0.4366 - val_accuracy: 0.8188\n",
            "Epoch 95/100\n",
            "13/13 [==============================] - 0s 5ms/step - loss: 0.4339 - accuracy: 0.8182 - val_loss: 0.4369 - val_accuracy: 0.8193\n",
            "Epoch 96/100\n",
            "13/13 [==============================] - 0s 5ms/step - loss: 0.4338 - accuracy: 0.8184 - val_loss: 0.4365 - val_accuracy: 0.8198\n",
            "Epoch 97/100\n",
            "13/13 [==============================] - 0s 5ms/step - loss: 0.4334 - accuracy: 0.8182 - val_loss: 0.4364 - val_accuracy: 0.8203\n",
            "Epoch 98/100\n",
            "13/13 [==============================] - 0s 5ms/step - loss: 0.4337 - accuracy: 0.8174 - val_loss: 0.4367 - val_accuracy: 0.8193\n",
            "Epoch 99/100\n",
            "13/13 [==============================] - 0s 6ms/step - loss: 0.4334 - accuracy: 0.8184 - val_loss: 0.4365 - val_accuracy: 0.8187\n",
            "Epoch 100/100\n",
            "13/13 [==============================] - 0s 5ms/step - loss: 0.4336 - accuracy: 0.8188 - val_loss: 0.4368 - val_accuracy: 0.8198\n"
          ],
          "name": "stdout"
        },
        {
          "output_type": "display_data",
          "data": {
            "image/png": "[encoded data removed]",
            "text/plain": [
              "<Figure size 432x288 with 1 Axes>"
            ]
          },
          "metadata": {
            "tags": [],
            "needs_background": "light"
          }
        },
        {
          "output_type": "display_data",
          "data": {
            "image/png": "[encoded data removed]",
            "text/plain": [
              "<Figure size 432x288 with 1 Axes>"
            ]
          },
          "metadata": {
            "tags": [],
            "needs_background": "light"
          }
        }
      ]
    },
    {
      "cell_type": "markdown",
      "metadata": {
        "id": "tdYEEvRnp0fA"
      },
      "source": [
        "Test accuracy stops improving around 60 epochs when accuracy is around 82%. The NN model is slightly better than the other ML classifiers above."
      ]
    },
    {
      "cell_type": "code",
      "metadata": {
        "id": "4SURB3Rxv4a8"
      },
      "source": [
        "# Predicting the defaulters in a specific month.\n",
        "Predict = model.predict_classes(Newdata)"
      ],
      "execution_count": null,
      "outputs": []
    },
    {
      "cell_type": "markdown",
      "metadata": {
        "id": "1TURPSLIsBYi"
      },
      "source": [
        "Deploying the model using TensorFlow Lite."
      ]
    }
  ]
}