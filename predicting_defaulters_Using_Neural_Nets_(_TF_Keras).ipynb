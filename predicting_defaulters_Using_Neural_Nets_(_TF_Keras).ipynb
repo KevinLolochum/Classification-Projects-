{
  "nbformat": 4,
  "nbformat_minor": 0,
  "metadata": {
    "colab": {
      "name": "predicting defaulters - Using Neural Nets ( TF-Keras) ",
      "provenance": [],
      "authorship_tag": "ABX9TyNGT3VvlrKz+LSRRYzmunTB",
      "include_colab_link": true
    },
    "kernelspec": {
      "name": "python3",
      "display_name": "Python 3"
    }
  },
  "cells": [
    {
      "cell_type": "markdown",
      "metadata": {
        "id": "view-in-github",
        "colab_type": "text"
      },
      "source": [
        "<a href=\"https://colab.research.google.com/github/KevinLolochum/Deep-Learning-TF-Keras-Theano-PyTorch-/blob/master/predicting_defaulters_Using_Neural_Nets_(_TF_Keras).ipynb\" target=\"_parent\"><img src=\"https://colab.research.google.com/assets/colab-badge.svg\" alt=\"Open In Colab\"/></a>"
      ]
    },
    {
      "cell_type": "markdown",
      "metadata": {
        "id": "X7c2DnrHocvk"
      },
      "source": [
        "High level API solution (Keras)"
      ]
    },
    {
      "cell_type": "code",
      "metadata": {
        "id": "xrELSPAfBt-U"
      },
      "source": [
        "import numpy as np\n",
        "import pandas as pd\n",
        "import matplotlib.pyplot as plt\n",
        "\n",
        "import tensorflow as tf\n",
        "import keras\n"
      ],
      "execution_count": 35,
      "outputs": []
    },
    {
      "cell_type": "markdown",
      "metadata": {
        "id": "FybAM6uhp5dg"
      },
      "source": [
        "Mounting Drive"
      ]
    },
    {
      "cell_type": "code",
      "metadata": {
        "id": "z3C7tWsFpc6J",
        "outputId": "0f80084b-aeba-46d3-ad84-855999a2c3f4",
        "colab": {
          "base_uri": "https://localhost:8080/",
          "height": 34
        }
      },
      "source": [
        "from google.colab import drive\n",
        "\n",
        "drive.mount('/content/gdrive')"
      ],
      "execution_count": 36,
      "outputs": [
        {
          "output_type": "stream",
          "text": [
            "Drive already mounted at /content/gdrive; to attempt to forcibly remount, call drive.mount(\"/content/gdrive\", force_remount=True).\n"
          ],
          "name": "stdout"
        }
      ]
    },
    {
      "cell_type": "markdown",
      "metadata": {
        "id": "RxzMAQLL1dew"
      },
      "source": [
        "Data is relatively  clean but the goal of this colab is not data cleaning"
      ]
    },
    {
      "cell_type": "code",
      "metadata": {
        "id": "B8xWBK_xqk6l",
        "outputId": "b9859157-16a4-45bd-9648-abc2fe7bc321",
        "colab": {
          "base_uri": "https://localhost:8080/",
          "height": 127
        }
      },
      "source": [
        "df = pd.read_csv('/content/gdrive/My Drive/Risklab.csv', delimiter = ',')\n",
        "df.head(2)"
      ],
      "execution_count": 37,
      "outputs": [
        {
          "output_type": "execute_result",
          "data": {
            "text/html": [
              "<div>\n",
              "<style scoped>\n",
              "    .dataframe tbody tr th:only-of-type {\n",
              "        vertical-align: middle;\n",
              "    }\n",
              "\n",
              "    .dataframe tbody tr th {\n",
              "        vertical-align: top;\n",
              "    }\n",
              "\n",
              "    .dataframe thead th {\n",
              "        text-align: right;\n",
              "    }\n",
              "</style>\n",
              "<table border=\"1\" class=\"dataframe\">\n",
              "  <thead>\n",
              "    <tr style=\"text-align: right;\">\n",
              "      <th></th>\n",
              "      <th>Credit_Limit</th>\n",
              "      <th>Sex</th>\n",
              "      <th>Education</th>\n",
              "      <th>Marital_Status</th>\n",
              "      <th>Age</th>\n",
              "      <th>Jan_Repay_Status</th>\n",
              "      <th>Previous_Payment_Prior_Jan</th>\n",
              "      <th>Jan_Statement</th>\n",
              "      <th>Feb_Repay_Status</th>\n",
              "      <th>Previous_Payment_Prior_Feb</th>\n",
              "      <th>Feb_Statement</th>\n",
              "      <th>Mar_Repay_Status</th>\n",
              "      <th>Previous_Payment_Prior_Mar</th>\n",
              "      <th>Mar_Statement</th>\n",
              "      <th>Apr_Repay_Status</th>\n",
              "      <th>Previous_Payment_Prior_Apr</th>\n",
              "      <th>Apr_Statement</th>\n",
              "      <th>May_Repay_Status</th>\n",
              "      <th>Previous_Payment_Prior_May</th>\n",
              "      <th>May_Statement</th>\n",
              "      <th>Jun_Repay_Status</th>\n",
              "      <th>Previous_Payment_Prior_Jun</th>\n",
              "      <th>Jun_Statement</th>\n",
              "      <th>July_Payment_Status</th>\n",
              "    </tr>\n",
              "  </thead>\n",
              "  <tbody>\n",
              "    <tr>\n",
              "      <th>0</th>\n",
              "      <td>9600.0</td>\n",
              "      <td>1.0</td>\n",
              "      <td>3.0</td>\n",
              "      <td>3.0</td>\n",
              "      <td>32.0</td>\n",
              "      <td>6.0</td>\n",
              "      <td>110.0</td>\n",
              "      <td>138.0</td>\n",
              "      <td>5.0</td>\n",
              "      <td>2847.0</td>\n",
              "      <td>5298.0</td>\n",
              "      <td>11.0</td>\n",
              "      <td>1692.0</td>\n",
              "      <td>NaN</td>\n",
              "      <td>7.0</td>\n",
              "      <td>331.0</td>\n",
              "      <td>1080.0</td>\n",
              "      <td>12.0</td>\n",
              "      <td>535.0</td>\n",
              "      <td>1671.0</td>\n",
              "      <td>3.0</td>\n",
              "      <td>4800.0</td>\n",
              "      <td>6799.0</td>\n",
              "      <td>1.0</td>\n",
              "    </tr>\n",
              "    <tr>\n",
              "      <th>1</th>\n",
              "      <td>14400.0</td>\n",
              "      <td>2.0</td>\n",
              "      <td>3.0</td>\n",
              "      <td>2.0</td>\n",
              "      <td>30.0</td>\n",
              "      <td>-2.0</td>\n",
              "      <td>0.0</td>\n",
              "      <td>132.0</td>\n",
              "      <td>-2.0</td>\n",
              "      <td>0.0</td>\n",
              "      <td>0.0</td>\n",
              "      <td>-2.0</td>\n",
              "      <td>0.0</td>\n",
              "      <td>0.0</td>\n",
              "      <td>-2.0</td>\n",
              "      <td>0.0</td>\n",
              "      <td>0.0</td>\n",
              "      <td>-2.0</td>\n",
              "      <td>45.0</td>\n",
              "      <td>0.0</td>\n",
              "      <td>-2.0</td>\n",
              "      <td>136.0</td>\n",
              "      <td>45.0</td>\n",
              "      <td>0.0</td>\n",
              "    </tr>\n",
              "  </tbody>\n",
              "</table>\n",
              "</div>"
            ],
            "text/plain": [
              "   Credit_Limit  Sex  ...  Jun_Statement  July_Payment_Status\n",
              "0        9600.0  1.0  ...         6799.0                  1.0\n",
              "1       14400.0  2.0  ...           45.0                  0.0\n",
              "\n",
              "[2 rows x 24 columns]"
            ]
          },
          "metadata": {
            "tags": []
          },
          "execution_count": 37
        }
      ]
    },
    {
      "cell_type": "code",
      "metadata": {
        "id": "vrsknxt72OBm",
        "outputId": "9df893e4-b440-427d-ad1f-269bc1d37992",
        "colab": {
          "base_uri": "https://localhost:8080/",
          "height": 34
        }
      },
      "source": [
        "#dtypes are all float\n",
        "df = df.dropna(axis = 0, how='any')\n",
        "df.shape"
      ],
      "execution_count": 38,
      "outputs": [
        {
          "output_type": "execute_result",
          "data": {
            "text/plain": [
              "(30522, 24)"
            ]
          },
          "metadata": {
            "tags": []
          },
          "execution_count": 38
        }
      ]
    },
    {
      "cell_type": "markdown",
      "metadata": {
        "id": "BpJx6UFp_6O-"
      },
      "source": [
        "Checking the min and max for each column to ensure there are no outliers\n",
        "\n",
        "Value minimums and maximums are given in the metadata."
      ]
    },
    {
      "cell_type": "code",
      "metadata": {
        "id": "8jAV3Us437G0",
        "outputId": "d923d953-7acf-4f53-9a47-2a7710094d23",
        "colab": {
          "base_uri": "https://localhost:8080/",
          "height": 443
        }
      },
      "source": [
        "names = list(df.columns)\n",
        "for name in names:\n",
        "  s = str(name)\n",
        "  print('The min of {col} is {min} while the max is {max}'.format(col = s, min = df[s].min(), max = df[s].max()))"
      ],
      "execution_count": 39,
      "outputs": [
        {
          "output_type": "stream",
          "text": [
            "The min of Credit_Limit is 200.0 while the max is 40100.0\n",
            "The min of Sex is 0.0 while the max is 8.0\n",
            "The min of Education is 0.0 while the max is 6.0\n",
            "The min of Marital_Status is 0.0 while the max is 4.0\n",
            "The min of Age is 15.0 while the max is 102.0\n",
            "The min of Jan_Repay_Status is -2.0 while the max is 12.0\n",
            "The min of Previous_Payment_Prior_Jan is 0.0 while the max is 34942.0\n",
            "The min of Jan_Statement is -6623.0 while the max is 38580.0\n",
            "The min of Feb_Repay_Status is -2.0 while the max is 12.0\n",
            "The min of Previous_Payment_Prior_Feb is 0.0 while the max is 67370.0\n",
            "The min of Feb_Statement is -2791.0 while the max is 39357.0\n",
            "The min of Mar_Repay_Status is -2.0 while the max is 12.0\n",
            "The min of Previous_Payment_Prior_Mar is 0.0 while the max is 35842.0\n",
            "The min of Mar_Statement is -6291.0 while the max is 66564.0\n",
            "The min of Apr_Repay_Status is -2.0 while the max is 12.0\n",
            "The min of Previous_Payment_Prior_Apr is 0.0 while the max is 24840.0\n",
            "The min of Apr_Statement is -6800.0 while the max is 35663.0\n",
            "The min of May_Repay_Status is -2.0 while the max is 12.0\n",
            "The min of Previous_Payment_Prior_May is 0.0 while the max is 17061.0\n",
            "The min of May_Statement is -3253.0 while the max is 37087.0\n",
            "The min of Jun_Repay_Status is -2.0 while the max is 12.0\n",
            "The min of Previous_Payment_Prior_Jun is 0.0 while the max is 21147.0\n",
            "The min of Jun_Statement is -13584.0 while the max is 38467.0\n",
            "The min of July_Payment_Status is 0.0 while the max is 2.0\n"
          ],
          "name": "stdout"
        }
      ]
    },
    {
      "cell_type": "markdown",
      "metadata": {
        "id": "KrVSEHPCx1yj"
      },
      "source": [
        "Comparing with metadata it seems like Education, Sex and Marital_Status have unkown values."
      ]
    },
    {
      "cell_type": "code",
      "metadata": {
        "id": "jsAgjA8h2NPn",
        "outputId": "6def9781-5b78-4085-888f-9759f96c92d3",
        "colab": {
          "base_uri": "https://localhost:8080/",
          "height": 34
        }
      },
      "source": [
        "# Unknown values in sex are neglible. Education and Marital status have a value for unknown values so I will replace\n",
        "\n",
        "df = df.replace({'Education': {5.0:4.0, 6.0:4.0},\n",
        "                  'Marital_Status':{4.0:3.0}})\n",
        "df.shape\n",
        "\n"
      ],
      "execution_count": 40,
      "outputs": [
        {
          "output_type": "execute_result",
          "data": {
            "text/plain": [
              "(30522, 24)"
            ]
          },
          "metadata": {
            "tags": []
          },
          "execution_count": 40
        }
      ]
    },
    {
      "cell_type": "code",
      "metadata": {
        "id": "w7bpUshJSUfb",
        "outputId": "14c62625-d919-4b7a-d705-9168369523ec",
        "colab": {
          "base_uri": "https://localhost:8080/",
          "height": 157
        }
      },
      "source": [
        "# Normalize the data\n",
        "\n",
        "from sklearn.preprocessing import MinMaxScaler\n",
        "\n",
        "\n",
        "# Convert to Numpy array so I can normalize the features, no need to normalize labels\n",
        "Values = df.values\n",
        "Features = Values[:, :-1]\n",
        "Labels = Values[:, -1]\n",
        "Features = Features.astype('float32')\n",
        "Scaler = MinMaxScaler(feature_range=(0, 1))\n",
        "Normalized = Scaler.fit_transform(Features)\n",
        "\n",
        "# Change datatype of Labels to categorical and merge the two dataframes again\n",
        "df1 = pd.DataFrame(Labels).astype('uint8')\n",
        "df2 = pd.DataFrame(Normalized)\n",
        "df3 = pd.merge(df2, df1, left_index= True, right_index = True)\n",
        "\n",
        "#Deleting outliers in category\n",
        "df3 = df3[(df3['0_y'] <= 1)]\n",
        "df3.head(3)\n"
      ],
      "execution_count": 41,
      "outputs": [
        {
          "output_type": "execute_result",
          "data": {
            "text/html": [
              "<div>\n",
              "<style scoped>\n",
              "    .dataframe tbody tr th:only-of-type {\n",
              "        vertical-align: middle;\n",
              "    }\n",
              "\n",
              "    .dataframe tbody tr th {\n",
              "        vertical-align: top;\n",
              "    }\n",
              "\n",
              "    .dataframe thead th {\n",
              "        text-align: right;\n",
              "    }\n",
              "</style>\n",
              "<table border=\"1\" class=\"dataframe\">\n",
              "  <thead>\n",
              "    <tr style=\"text-align: right;\">\n",
              "      <th></th>\n",
              "      <th>0_x</th>\n",
              "      <th>1</th>\n",
              "      <th>2</th>\n",
              "      <th>3</th>\n",
              "      <th>4</th>\n",
              "      <th>5</th>\n",
              "      <th>6</th>\n",
              "      <th>7</th>\n",
              "      <th>8</th>\n",
              "      <th>9</th>\n",
              "      <th>10</th>\n",
              "      <th>11</th>\n",
              "      <th>12</th>\n",
              "      <th>13</th>\n",
              "      <th>14</th>\n",
              "      <th>15</th>\n",
              "      <th>16</th>\n",
              "      <th>17</th>\n",
              "      <th>18</th>\n",
              "      <th>19</th>\n",
              "      <th>20</th>\n",
              "      <th>21</th>\n",
              "      <th>22</th>\n",
              "      <th>0_y</th>\n",
              "    </tr>\n",
              "  </thead>\n",
              "  <tbody>\n",
              "    <tr>\n",
              "      <th>0</th>\n",
              "      <td>0.355890</td>\n",
              "      <td>0.250</td>\n",
              "      <td>0.75</td>\n",
              "      <td>0.666667</td>\n",
              "      <td>0.172414</td>\n",
              "      <td>0.000000</td>\n",
              "      <td>0.000000</td>\n",
              "      <td>0.149437</td>\n",
              "      <td>0.000000</td>\n",
              "      <td>0.000000</td>\n",
              "      <td>0.066219</td>\n",
              "      <td>0.000000</td>\n",
              "      <td>0.000000</td>\n",
              "      <td>0.086350</td>\n",
              "      <td>0.000000</td>\n",
              "      <td>0.000000</td>\n",
              "      <td>0.160139</td>\n",
              "      <td>0.000000</td>\n",
              "      <td>0.002638</td>\n",
              "      <td>0.080640</td>\n",
              "      <td>0.000000</td>\n",
              "      <td>0.006431</td>\n",
              "      <td>0.261839</td>\n",
              "      <td>0</td>\n",
              "    </tr>\n",
              "    <tr>\n",
              "      <th>1</th>\n",
              "      <td>0.197995</td>\n",
              "      <td>0.125</td>\n",
              "      <td>0.25</td>\n",
              "      <td>0.666667</td>\n",
              "      <td>0.160920</td>\n",
              "      <td>0.071429</td>\n",
              "      <td>0.003806</td>\n",
              "      <td>0.146672</td>\n",
              "      <td>0.071429</td>\n",
              "      <td>0.025234</td>\n",
              "      <td>0.069351</td>\n",
              "      <td>0.071429</td>\n",
              "      <td>0.000000</td>\n",
              "      <td>0.107501</td>\n",
              "      <td>0.071429</td>\n",
              "      <td>0.030233</td>\n",
              "      <td>0.160045</td>\n",
              "      <td>0.071429</td>\n",
              "      <td>0.029189</td>\n",
              "      <td>0.099157</td>\n",
              "      <td>0.071429</td>\n",
              "      <td>0.018017</td>\n",
              "      <td>0.270504</td>\n",
              "      <td>0</td>\n",
              "    </tr>\n",
              "    <tr>\n",
              "      <th>2</th>\n",
              "      <td>0.062657</td>\n",
              "      <td>0.250</td>\n",
              "      <td>0.50</td>\n",
              "      <td>0.333333</td>\n",
              "      <td>0.183908</td>\n",
              "      <td>0.142857</td>\n",
              "      <td>0.002976</td>\n",
              "      <td>0.210473</td>\n",
              "      <td>0.142857</td>\n",
              "      <td>0.002078</td>\n",
              "      <td>0.134170</td>\n",
              "      <td>0.142857</td>\n",
              "      <td>0.003348</td>\n",
              "      <td>0.126127</td>\n",
              "      <td>0.142857</td>\n",
              "      <td>0.001610</td>\n",
              "      <td>0.227068</td>\n",
              "      <td>0.142857</td>\n",
              "      <td>0.003517</td>\n",
              "      <td>0.110064</td>\n",
              "      <td>0.142857</td>\n",
              "      <td>0.000898</td>\n",
              "      <td>0.283126</td>\n",
              "      <td>0</td>\n",
              "    </tr>\n",
              "  </tbody>\n",
              "</table>\n",
              "</div>"
            ],
            "text/plain": [
              "        0_x      1     2         3  ...        20        21        22  0_y\n",
              "0  0.355890  0.250  0.75  0.666667  ...  0.000000  0.006431  0.261839    0\n",
              "1  0.197995  0.125  0.25  0.666667  ...  0.071429  0.018017  0.270504    0\n",
              "2  0.062657  0.250  0.50  0.333333  ...  0.142857  0.000898  0.283126    0\n",
              "\n",
              "[3 rows x 24 columns]"
            ]
          },
          "metadata": {
            "tags": []
          },
          "execution_count": 41
        }
      ]
    },
    {
      "cell_type": "code",
      "metadata": {
        "id": "MP_ODG1iZl3l",
        "outputId": "8f8007ce-f804-4fdf-9d01-3595111db888",
        "colab": {
          "base_uri": "https://localhost:8080/",
          "height": 34
        }
      },
      "source": [
        "df3.shape"
      ],
      "execution_count": 8,
      "outputs": [
        {
          "output_type": "execute_result",
          "data": {
            "text/plain": [
              "(30521, 24)"
            ]
          },
          "metadata": {
            "tags": []
          },
          "execution_count": 8
        }
      ]
    },
    {
      "cell_type": "markdown",
      "metadata": {
        "id": "eLRdN4XNKe83"
      },
      "source": [
        "Modelling"
      ]
    },
    {
      "cell_type": "code",
      "metadata": {
        "id": "hn01b7hUEc29",
        "outputId": "6ef28f0f-7d2e-4e50-f58f-b3fb019a5953",
        "colab": {
          "base_uri": "https://localhost:8080/",
          "height": 34
        }
      },
      "source": [
        "# Split the data into training and testing\n",
        "\n",
        "values = df3.values\n",
        "splt = int(len(values)*0.8)\n",
        "X_train = values[:splt, :-1]\n",
        "Y_train =values[:splt, -1]\n",
        "X_test =values[splt:, :-1]\n",
        "Y_test =values[splt:, -1]\n",
        "\n",
        "# Shape of the data\n",
        "\n",
        "print(X_train.shape, Y_train.shape, X_test.shape, Y_test.shape)\n",
        "\n"
      ],
      "execution_count": 42,
      "outputs": [
        {
          "output_type": "stream",
          "text": [
            "(24416, 23) (24416,) (6105, 23) (6105,)\n"
          ],
          "name": "stdout"
        }
      ]
    },
    {
      "cell_type": "markdown",
      "metadata": {
        "id": "Mmrd4E8mQfHs"
      },
      "source": [
        "Gaussian Naive Bayes GNB."
      ]
    },
    {
      "cell_type": "code",
      "metadata": {
        "id": "jfys5N5NQXk-",
        "outputId": "a9f49266-a472-4c40-beb9-480397c3c519",
        "colab": {
          "base_uri": "https://localhost:8080/",
          "height": 34
        }
      },
      "source": [
        "from sklearn.naive_bayes import GaussianNB\n",
        "\n",
        "model = GaussianNB()\n",
        "model.fit(X_train, Y_train)"
      ],
      "execution_count": null,
      "outputs": [
        {
          "output_type": "execute_result",
          "data": {
            "text/plain": [
              "GaussianNB(priors=None, var_smoothing=1e-09)"
            ]
          },
          "metadata": {
            "tags": []
          },
          "execution_count": 47
        }
      ]
    },
    {
      "cell_type": "code",
      "metadata": {
        "id": "7s0pCX7vKg5Y",
        "outputId": "7e02ae50-dfc5-48af-8a2d-5914e22fe1b6",
        "colab": {
          "base_uri": "https://localhost:8080/",
          "height": 278
        }
      },
      "source": [
        "# Predicting Y values using trained model\n",
        "\n",
        "Y_pred = model.predict(X_test)\n",
        "\n",
        "# Model accuracy using confusion matrix\n",
        "from sklearn.metrics import confusion_matrix\n",
        "import seaborn as sns\n",
        "mat = confusion_matrix(Y_test, Y_pred)\n",
        "\n",
        "sns.heatmap(mat.T, square = True, annot = True, fmt = 'd', cbar = False)\n",
        "plt.xlabel('True label')\n",
        "plt.ylabel('Predicted Label');"
      ],
      "execution_count": null,
      "outputs": [
        {
          "output_type": "display_data",
          "data": {
            "image/png": "[encoded data removed]",
            "text/plain": [
              "<Figure size 432x288 with 1 Axes>"
            ]
          },
          "metadata": {
            "tags": [],
            "needs_background": "light"
          }
        }
      ]
    },
    {
      "cell_type": "code",
      "metadata": {
        "id": "dKp9HgrRhpzl",
        "outputId": "6a482b46-16f9-4539-a7c0-b66528ef9097",
        "colab": {
          "base_uri": "https://localhost:8080/",
          "height": 34
        }
      },
      "source": [
        "from sklearn.metrics import accuracy_score\n",
        "\n",
        "accuracy_score(Y_test, Y_pred)"
      ],
      "execution_count": null,
      "outputs": [
        {
          "output_type": "execute_result",
          "data": {
            "text/plain": [
              "0.7921375921375922"
            ]
          },
          "metadata": {
            "tags": []
          },
          "execution_count": 50
        }
      ]
    },
    {
      "cell_type": "markdown",
      "metadata": {
        "id": "QhqTU4OUTHzI"
      },
      "source": [
        "Model attains an accuracy of ~80% in classifying the customers, this is not bad."
      ]
    },
    {
      "cell_type": "markdown",
      "metadata": {
        "id": "YHKafC44Qtcs"
      },
      "source": [
        "Bagging classifier"
      ]
    },
    {
      "cell_type": "markdown",
      "metadata": {
        "id": "1kwkheYkS7PK"
      },
      "source": [
        "Bagging is an ensembe method that combines the predictions of weak classifiers like decision trees that are trained on subsets of data.\n",
        "The goal is to reduce variance, which makes sense for this data that has high cardinality. In this example I am using sample vector classifier (SVC)."
      ]
    },
    {
      "cell_type": "code",
      "metadata": {
        "id": "Q5LwWYo4QszK",
        "outputId": "71e6c3bb-afdc-4c0f-ac81-3d48206263fc",
        "colab": {
          "base_uri": "https://localhost:8080/",
          "height": 34
        }
      },
      "source": [
        "from sklearn.svm import SVC\n",
        "from sklearn.ensemble import BaggingClassifier\n",
        "\n",
        "model = BaggingClassifier(base_estimator= SVC(), n_estimators = 10, random_state = 0).fit(X_train, Y_train)\n",
        "\n",
        "# predict Y\n",
        "ypred = model.predict(X_test)\n",
        "\n",
        "# Model performance\n",
        "accuracy_score(Y_test, ypred)\n"
      ],
      "execution_count": null,
      "outputs": [
        {
          "output_type": "execute_result",
          "data": {
            "text/plain": [
              "0.8149058149058149"
            ]
          },
          "metadata": {
            "tags": []
          },
          "execution_count": 56
        }
      ]
    },
    {
      "cell_type": "markdown",
      "metadata": {
        "id": "fzHkSn6_So13"
      },
      "source": [
        "Achieves slightly better than Guassian Naive Bayes"
      ]
    },
    {
      "cell_type": "markdown",
      "metadata": {
        "id": "Gp1XZBN330am"
      },
      "source": [
        "Gradient boosting using XGBoost"
      ]
    },
    {
      "cell_type": "markdown",
      "metadata": {
        "id": "MIaA7EFCiKCM"
      },
      "source": [
        "This method fits learners (decision trees) in a sequence so that each learner is an improvement of the previous learner. When an input is misclassified, more weight is placed on it in the subsequent learner to improve accuracy."
      ]
    },
    {
      "cell_type": "code",
      "metadata": {
        "id": "9FyyShATezYO",
        "outputId": "3c292687-e8de-4151-dbaf-9293963990df",
        "colab": {
          "base_uri": "https://localhost:8080/",
          "height": 34
        }
      },
      "source": [
        "from sklearn.model_selection import RepeatedStratifiedKFold\n",
        "from xgboost import XGBClassifier\n",
        "from sklearn.model_selection import cross_val_score\n",
        "from numpy import mean, std\n",
        "\n",
        "model = XGBClassifier(objective = 'binary:logistic', )\n",
        "cv = RepeatedStratifiedKFold(n_splits = 20, n_repeats = 3, random_state=1)\n",
        "n_scores = cross_val_score(model, X_test, Y_test, scoring='accuracy', \n",
        "                           cv=cv, n_jobs=-1, error_score='raise')\n",
        "\n",
        "print('Accuracy: %.3f (%.3f)' % (mean(n_scores), std(n_scores)))\n"
      ],
      "execution_count": null,
      "outputs": [
        {
          "output_type": "stream",
          "text": [
            "Accuracy: 0.817 (0.018)\n"
          ],
          "name": "stdout"
        }
      ]
    },
    {
      "cell_type": "markdown",
      "metadata": {
        "id": "20t1CGg-kiuN"
      },
      "source": [
        "\n",
        "Neural nets might also improve the accuracy of our model."
      ]
    },
    {
      "cell_type": "markdown",
      "metadata": {
        "id": "z-Zoy7iTtzI3"
      },
      "source": [
        "Deep Learning Neural Nets"
      ]
    },
    {
      "cell_type": "code",
      "metadata": {
        "id": "rLwNVpdptyaf"
      },
      "source": [
        "# Using Neural Nets\n",
        "from tensorflow.keras import Sequential\n",
        "from tensorflow.keras.layers import Dense\n",
        "\n",
        "model = Sequential()\n",
        "model.add(Dense(64, input_dim = 23, activation = 'relu'))\n",
        "model.add(Dense(32, activation = 'relu'))\n",
        "model.add(Dense(1, activation = 'sigmoid'))"
      ],
      "execution_count": 43,
      "outputs": []
    },
    {
      "cell_type": "code",
      "metadata": {
        "id": "LFh_G0DWChNV"
      },
      "source": [
        "# Compiling\n",
        "model.compile(optimizer = 'adam',\n",
        "              loss = 'binary_crossentropy',\n",
        "              metrics = ['accuracy'])"
      ],
      "execution_count": 44,
      "outputs": []
    },
    {
      "cell_type": "code",
      "metadata": {
        "id": "wla0dIpIG7hA",
        "outputId": "0aa5f514-2d56-4679-daab-656e26f0a068",
        "colab": {
          "base_uri": "https://localhost:8080/",
          "height": 1000
        }
      },
      "source": [
        "# training and predicting\n",
        "epochs = 100\n",
        "Batch_size = 2000\n",
        "\n",
        "history = model.fit(X_train, Y_train, epochs = epochs, batch_size = Batch_size,\n",
        "                    validation_data=(X_test, Y_test), verbose = 1, shuffle = True)\n",
        "\n",
        "# Plotting accuracy and loss\n",
        "\n",
        "plt.plot(history.history['accuracy'], label='train')\n",
        "plt.plot(history.history['val_accuracy'], label='test')\n",
        "plt.title('accuracy')\n",
        "plt.legend()\n",
        "plt.show()\n",
        "\n",
        "plt.plot(history.history['loss'], label='train')\n",
        "plt.plot(history.history['val_loss'], label='test')\n",
        "plt.title('accuracy')\n",
        "plt.legend()\n",
        "plt.show()"
      ],
      "execution_count": 45,
      "outputs": [
        {
          "output_type": "stream",
          "text": [
            "Epoch 1/100\n",
            "13/13 [==============================] - 0s 14ms/step - loss: 0.6244 - accuracy: 0.7758 - val_loss: 0.5811 - val_accuracy: 0.7736\n",
            "Epoch 2/100\n",
            "13/13 [==============================] - 0s 6ms/step - loss: 0.5565 - accuracy: 0.7758 - val_loss: 0.5371 - val_accuracy: 0.7736\n",
            "Epoch 3/100\n",
            "13/13 [==============================] - 0s 6ms/step - loss: 0.5286 - accuracy: 0.7758 - val_loss: 0.5243 - val_accuracy: 0.7736\n",
            "Epoch 4/100\n",
            "13/13 [==============================] - 0s 6ms/step - loss: 0.5159 - accuracy: 0.7758 - val_loss: 0.5113 - val_accuracy: 0.7736\n",
            "Epoch 5/100\n",
            "13/13 [==============================] - 0s 7ms/step - loss: 0.5038 - accuracy: 0.7761 - val_loss: 0.5003 - val_accuracy: 0.7731\n",
            "Epoch 6/100\n",
            "13/13 [==============================] - 0s 5ms/step - loss: 0.4937 - accuracy: 0.7783 - val_loss: 0.4920 - val_accuracy: 0.7762\n",
            "Epoch 7/100\n",
            "13/13 [==============================] - 0s 5ms/step - loss: 0.4870 - accuracy: 0.7840 - val_loss: 0.4877 - val_accuracy: 0.7797\n",
            "Epoch 8/100\n",
            "13/13 [==============================] - 0s 5ms/step - loss: 0.4826 - accuracy: 0.7892 - val_loss: 0.4832 - val_accuracy: 0.7907\n",
            "Epoch 9/100\n",
            "13/13 [==============================] - 0s 6ms/step - loss: 0.4790 - accuracy: 0.7937 - val_loss: 0.4805 - val_accuracy: 0.7933\n",
            "Epoch 10/100\n",
            "13/13 [==============================] - 0s 6ms/step - loss: 0.4764 - accuracy: 0.7950 - val_loss: 0.4779 - val_accuracy: 0.7949\n",
            "Epoch 11/100\n",
            "13/13 [==============================] - 0s 5ms/step - loss: 0.4740 - accuracy: 0.7966 - val_loss: 0.4754 - val_accuracy: 0.7961\n",
            "Epoch 12/100\n",
            "13/13 [==============================] - 0s 5ms/step - loss: 0.4713 - accuracy: 0.7976 - val_loss: 0.4730 - val_accuracy: 0.7967\n",
            "Epoch 13/100\n",
            "13/13 [==============================] - 0s 6ms/step - loss: 0.4689 - accuracy: 0.7995 - val_loss: 0.4710 - val_accuracy: 0.7951\n",
            "Epoch 14/100\n",
            "13/13 [==============================] - 0s 5ms/step - loss: 0.4669 - accuracy: 0.8012 - val_loss: 0.4684 - val_accuracy: 0.7980\n",
            "Epoch 15/100\n",
            "13/13 [==============================] - 0s 5ms/step - loss: 0.4643 - accuracy: 0.8021 - val_loss: 0.4664 - val_accuracy: 0.8000\n",
            "Epoch 16/100\n",
            "13/13 [==============================] - 0s 5ms/step - loss: 0.4623 - accuracy: 0.8038 - val_loss: 0.4645 - val_accuracy: 0.7997\n",
            "Epoch 17/100\n",
            "13/13 [==============================] - 0s 6ms/step - loss: 0.4604 - accuracy: 0.8042 - val_loss: 0.4633 - val_accuracy: 0.7990\n",
            "Epoch 18/100\n",
            "13/13 [==============================] - 0s 6ms/step - loss: 0.4588 - accuracy: 0.8045 - val_loss: 0.4613 - val_accuracy: 0.8011\n",
            "Epoch 19/100\n",
            "13/13 [==============================] - 0s 6ms/step - loss: 0.4569 - accuracy: 0.8049 - val_loss: 0.4596 - val_accuracy: 0.8054\n",
            "Epoch 20/100\n",
            "13/13 [==============================] - 0s 6ms/step - loss: 0.4556 - accuracy: 0.8062 - val_loss: 0.4582 - val_accuracy: 0.8036\n",
            "Epoch 21/100\n",
            "13/13 [==============================] - 0s 5ms/step - loss: 0.4543 - accuracy: 0.8064 - val_loss: 0.4569 - val_accuracy: 0.8043\n",
            "Epoch 22/100\n",
            "13/13 [==============================] - 0s 5ms/step - loss: 0.4533 - accuracy: 0.8070 - val_loss: 0.4559 - val_accuracy: 0.8049\n",
            "Epoch 23/100\n",
            "13/13 [==============================] - 0s 5ms/step - loss: 0.4521 - accuracy: 0.8078 - val_loss: 0.4551 - val_accuracy: 0.8051\n",
            "Epoch 24/100\n",
            "13/13 [==============================] - 0s 6ms/step - loss: 0.4512 - accuracy: 0.8091 - val_loss: 0.4538 - val_accuracy: 0.8092\n",
            "Epoch 25/100\n",
            "13/13 [==============================] - 0s 5ms/step - loss: 0.4503 - accuracy: 0.8080 - val_loss: 0.4530 - val_accuracy: 0.8093\n",
            "Epoch 26/100\n",
            "13/13 [==============================] - 0s 5ms/step - loss: 0.4493 - accuracy: 0.8087 - val_loss: 0.4521 - val_accuracy: 0.8108\n",
            "Epoch 27/100\n",
            "13/13 [==============================] - 0s 5ms/step - loss: 0.4486 - accuracy: 0.8102 - val_loss: 0.4517 - val_accuracy: 0.8093\n",
            "Epoch 28/100\n",
            "13/13 [==============================] - 0s 6ms/step - loss: 0.4479 - accuracy: 0.8104 - val_loss: 0.4522 - val_accuracy: 0.8070\n",
            "Epoch 29/100\n",
            "13/13 [==============================] - 0s 7ms/step - loss: 0.4475 - accuracy: 0.8094 - val_loss: 0.4507 - val_accuracy: 0.8102\n",
            "Epoch 30/100\n",
            "13/13 [==============================] - 0s 6ms/step - loss: 0.4467 - accuracy: 0.8098 - val_loss: 0.4495 - val_accuracy: 0.8116\n",
            "Epoch 31/100\n",
            "13/13 [==============================] - 0s 6ms/step - loss: 0.4461 - accuracy: 0.8105 - val_loss: 0.4489 - val_accuracy: 0.8111\n",
            "Epoch 32/100\n",
            "13/13 [==============================] - 0s 6ms/step - loss: 0.4454 - accuracy: 0.8104 - val_loss: 0.4484 - val_accuracy: 0.8110\n",
            "Epoch 33/100\n",
            "13/13 [==============================] - 0s 5ms/step - loss: 0.4450 - accuracy: 0.8109 - val_loss: 0.4477 - val_accuracy: 0.8118\n",
            "Epoch 34/100\n",
            "13/13 [==============================] - 0s 6ms/step - loss: 0.4445 - accuracy: 0.8116 - val_loss: 0.4472 - val_accuracy: 0.8120\n",
            "Epoch 35/100\n",
            "13/13 [==============================] - 0s 5ms/step - loss: 0.4443 - accuracy: 0.8121 - val_loss: 0.4468 - val_accuracy: 0.8126\n",
            "Epoch 36/100\n",
            "13/13 [==============================] - 0s 6ms/step - loss: 0.4438 - accuracy: 0.8126 - val_loss: 0.4464 - val_accuracy: 0.8116\n",
            "Epoch 37/100\n",
            "13/13 [==============================] - 0s 6ms/step - loss: 0.4431 - accuracy: 0.8125 - val_loss: 0.4458 - val_accuracy: 0.8118\n",
            "Epoch 38/100\n",
            "13/13 [==============================] - 0s 5ms/step - loss: 0.4427 - accuracy: 0.8126 - val_loss: 0.4455 - val_accuracy: 0.8123\n",
            "Epoch 39/100\n",
            "13/13 [==============================] - 0s 6ms/step - loss: 0.4426 - accuracy: 0.8127 - val_loss: 0.4451 - val_accuracy: 0.8126\n",
            "Epoch 40/100\n",
            "13/13 [==============================] - 0s 7ms/step - loss: 0.4420 - accuracy: 0.8137 - val_loss: 0.4447 - val_accuracy: 0.8124\n",
            "Epoch 41/100\n",
            "13/13 [==============================] - 0s 7ms/step - loss: 0.4416 - accuracy: 0.8136 - val_loss: 0.4447 - val_accuracy: 0.8113\n",
            "Epoch 42/100\n",
            "13/13 [==============================] - 0s 5ms/step - loss: 0.4412 - accuracy: 0.8138 - val_loss: 0.4439 - val_accuracy: 0.8129\n",
            "Epoch 43/100\n",
            "13/13 [==============================] - 0s 6ms/step - loss: 0.4410 - accuracy: 0.8135 - val_loss: 0.4438 - val_accuracy: 0.8115\n",
            "Epoch 44/100\n",
            "13/13 [==============================] - 0s 5ms/step - loss: 0.4411 - accuracy: 0.8136 - val_loss: 0.4435 - val_accuracy: 0.8110\n",
            "Epoch 45/100\n",
            "13/13 [==============================] - 0s 5ms/step - loss: 0.4410 - accuracy: 0.8139 - val_loss: 0.4430 - val_accuracy: 0.8124\n",
            "Epoch 46/100\n",
            "13/13 [==============================] - 0s 6ms/step - loss: 0.4406 - accuracy: 0.8138 - val_loss: 0.4424 - val_accuracy: 0.8129\n",
            "Epoch 47/100\n",
            "13/13 [==============================] - 0s 5ms/step - loss: 0.4399 - accuracy: 0.8144 - val_loss: 0.4426 - val_accuracy: 0.8120\n",
            "Epoch 48/100\n",
            "13/13 [==============================] - 0s 6ms/step - loss: 0.4395 - accuracy: 0.8152 - val_loss: 0.4418 - val_accuracy: 0.8131\n",
            "Epoch 49/100\n",
            "13/13 [==============================] - 0s 6ms/step - loss: 0.4397 - accuracy: 0.8149 - val_loss: 0.4420 - val_accuracy: 0.8151\n",
            "Epoch 50/100\n",
            "13/13 [==============================] - 0s 6ms/step - loss: 0.4394 - accuracy: 0.8159 - val_loss: 0.4417 - val_accuracy: 0.8146\n",
            "Epoch 51/100\n",
            "13/13 [==============================] - 0s 6ms/step - loss: 0.4385 - accuracy: 0.8147 - val_loss: 0.4414 - val_accuracy: 0.8133\n",
            "Epoch 52/100\n",
            "13/13 [==============================] - 0s 7ms/step - loss: 0.4385 - accuracy: 0.8139 - val_loss: 0.4454 - val_accuracy: 0.8115\n",
            "Epoch 53/100\n",
            "13/13 [==============================] - 0s 7ms/step - loss: 0.4396 - accuracy: 0.8150 - val_loss: 0.4435 - val_accuracy: 0.8113\n",
            "Epoch 54/100\n",
            "13/13 [==============================] - 0s 6ms/step - loss: 0.4390 - accuracy: 0.8145 - val_loss: 0.4416 - val_accuracy: 0.8126\n",
            "Epoch 55/100\n",
            "13/13 [==============================] - 0s 6ms/step - loss: 0.4378 - accuracy: 0.8150 - val_loss: 0.4401 - val_accuracy: 0.8141\n",
            "Epoch 56/100\n",
            "13/13 [==============================] - 0s 5ms/step - loss: 0.4372 - accuracy: 0.8157 - val_loss: 0.4402 - val_accuracy: 0.8144\n",
            "Epoch 57/100\n",
            "13/13 [==============================] - 0s 5ms/step - loss: 0.4372 - accuracy: 0.8161 - val_loss: 0.4394 - val_accuracy: 0.8139\n",
            "Epoch 58/100\n",
            "13/13 [==============================] - 0s 7ms/step - loss: 0.4369 - accuracy: 0.8164 - val_loss: 0.4394 - val_accuracy: 0.8161\n",
            "Epoch 59/100\n",
            "13/13 [==============================] - 0s 5ms/step - loss: 0.4365 - accuracy: 0.8157 - val_loss: 0.4391 - val_accuracy: 0.8154\n",
            "Epoch 60/100\n",
            "13/13 [==============================] - 0s 6ms/step - loss: 0.4363 - accuracy: 0.8163 - val_loss: 0.4391 - val_accuracy: 0.8151\n",
            "Epoch 61/100\n",
            "13/13 [==============================] - 0s 6ms/step - loss: 0.4365 - accuracy: 0.8161 - val_loss: 0.4387 - val_accuracy: 0.8151\n",
            "Epoch 62/100\n",
            "13/13 [==============================] - 0s 8ms/step - loss: 0.4357 - accuracy: 0.8166 - val_loss: 0.4385 - val_accuracy: 0.8157\n",
            "Epoch 63/100\n",
            "13/13 [==============================] - 0s 8ms/step - loss: 0.4356 - accuracy: 0.8167 - val_loss: 0.4391 - val_accuracy: 0.8151\n",
            "Epoch 64/100\n",
            "13/13 [==============================] - 0s 5ms/step - loss: 0.4357 - accuracy: 0.8165 - val_loss: 0.4392 - val_accuracy: 0.8147\n",
            "Epoch 65/100\n",
            "13/13 [==============================] - 0s 7ms/step - loss: 0.4354 - accuracy: 0.8167 - val_loss: 0.4378 - val_accuracy: 0.8169\n",
            "Epoch 66/100\n",
            "13/13 [==============================] - 0s 5ms/step - loss: 0.4350 - accuracy: 0.8165 - val_loss: 0.4378 - val_accuracy: 0.8159\n",
            "Epoch 67/100\n",
            "13/13 [==============================] - 0s 5ms/step - loss: 0.4354 - accuracy: 0.8157 - val_loss: 0.4383 - val_accuracy: 0.8164\n",
            "Epoch 68/100\n",
            "13/13 [==============================] - 0s 5ms/step - loss: 0.4350 - accuracy: 0.8162 - val_loss: 0.4373 - val_accuracy: 0.8159\n",
            "Epoch 69/100\n",
            "13/13 [==============================] - 0s 5ms/step - loss: 0.4345 - accuracy: 0.8172 - val_loss: 0.4372 - val_accuracy: 0.8172\n",
            "Epoch 70/100\n",
            "13/13 [==============================] - 0s 6ms/step - loss: 0.4341 - accuracy: 0.8166 - val_loss: 0.4379 - val_accuracy: 0.8169\n",
            "Epoch 71/100\n",
            "13/13 [==============================] - 0s 6ms/step - loss: 0.4342 - accuracy: 0.8166 - val_loss: 0.4369 - val_accuracy: 0.8161\n",
            "Epoch 72/100\n",
            "13/13 [==============================] - 0s 6ms/step - loss: 0.4340 - accuracy: 0.8166 - val_loss: 0.4369 - val_accuracy: 0.8172\n",
            "Epoch 73/100\n",
            "13/13 [==============================] - 0s 6ms/step - loss: 0.4337 - accuracy: 0.8170 - val_loss: 0.4368 - val_accuracy: 0.8172\n",
            "Epoch 74/100\n",
            "13/13 [==============================] - 0s 6ms/step - loss: 0.4335 - accuracy: 0.8171 - val_loss: 0.4365 - val_accuracy: 0.8161\n",
            "Epoch 75/100\n",
            "13/13 [==============================] - 0s 7ms/step - loss: 0.4339 - accuracy: 0.8168 - val_loss: 0.4362 - val_accuracy: 0.8167\n",
            "Epoch 76/100\n",
            "13/13 [==============================] - 0s 6ms/step - loss: 0.4334 - accuracy: 0.8163 - val_loss: 0.4366 - val_accuracy: 0.8185\n",
            "Epoch 77/100\n",
            "13/13 [==============================] - 0s 6ms/step - loss: 0.4334 - accuracy: 0.8170 - val_loss: 0.4368 - val_accuracy: 0.8180\n",
            "Epoch 78/100\n",
            "13/13 [==============================] - 0s 6ms/step - loss: 0.4331 - accuracy: 0.8173 - val_loss: 0.4363 - val_accuracy: 0.8187\n",
            "Epoch 79/100\n",
            "13/13 [==============================] - 0s 5ms/step - loss: 0.4331 - accuracy: 0.8165 - val_loss: 0.4362 - val_accuracy: 0.8180\n",
            "Epoch 80/100\n",
            "13/13 [==============================] - 0s 5ms/step - loss: 0.4329 - accuracy: 0.8170 - val_loss: 0.4364 - val_accuracy: 0.8174\n",
            "Epoch 81/100\n",
            "13/13 [==============================] - 0s 6ms/step - loss: 0.4330 - accuracy: 0.8174 - val_loss: 0.4363 - val_accuracy: 0.8188\n",
            "Epoch 82/100\n",
            "13/13 [==============================] - 0s 6ms/step - loss: 0.4327 - accuracy: 0.8170 - val_loss: 0.4357 - val_accuracy: 0.8183\n",
            "Epoch 83/100\n",
            "13/13 [==============================] - 0s 6ms/step - loss: 0.4323 - accuracy: 0.8168 - val_loss: 0.4357 - val_accuracy: 0.8190\n",
            "Epoch 84/100\n",
            "13/13 [==============================] - 0s 6ms/step - loss: 0.4322 - accuracy: 0.8168 - val_loss: 0.4350 - val_accuracy: 0.8161\n",
            "Epoch 85/100\n",
            "13/13 [==============================] - 0s 6ms/step - loss: 0.4324 - accuracy: 0.8174 - val_loss: 0.4350 - val_accuracy: 0.8180\n",
            "Epoch 86/100\n",
            "13/13 [==============================] - 0s 6ms/step - loss: 0.4323 - accuracy: 0.8173 - val_loss: 0.4356 - val_accuracy: 0.8190\n",
            "Epoch 87/100\n",
            "13/13 [==============================] - 0s 6ms/step - loss: 0.4323 - accuracy: 0.8168 - val_loss: 0.4361 - val_accuracy: 0.8169\n",
            "Epoch 88/100\n",
            "13/13 [==============================] - 0s 6ms/step - loss: 0.4321 - accuracy: 0.8177 - val_loss: 0.4367 - val_accuracy: 0.8188\n",
            "Epoch 89/100\n",
            "13/13 [==============================] - 0s 6ms/step - loss: 0.4328 - accuracy: 0.8156 - val_loss: 0.4380 - val_accuracy: 0.8149\n",
            "Epoch 90/100\n",
            "13/13 [==============================] - 0s 6ms/step - loss: 0.4323 - accuracy: 0.8173 - val_loss: 0.4358 - val_accuracy: 0.8172\n",
            "Epoch 91/100\n",
            "13/13 [==============================] - 0s 7ms/step - loss: 0.4317 - accuracy: 0.8174 - val_loss: 0.4351 - val_accuracy: 0.8180\n",
            "Epoch 92/100\n",
            "13/13 [==============================] - 0s 6ms/step - loss: 0.4315 - accuracy: 0.8177 - val_loss: 0.4354 - val_accuracy: 0.8174\n",
            "Epoch 93/100\n",
            "13/13 [==============================] - 0s 6ms/step - loss: 0.4315 - accuracy: 0.8170 - val_loss: 0.4349 - val_accuracy: 0.8182\n",
            "Epoch 94/100\n",
            "13/13 [==============================] - 0s 7ms/step - loss: 0.4314 - accuracy: 0.8182 - val_loss: 0.4340 - val_accuracy: 0.8169\n",
            "Epoch 95/100\n",
            "13/13 [==============================] - 0s 5ms/step - loss: 0.4307 - accuracy: 0.8175 - val_loss: 0.4346 - val_accuracy: 0.8179\n",
            "Epoch 96/100\n",
            "13/13 [==============================] - 0s 6ms/step - loss: 0.4309 - accuracy: 0.8181 - val_loss: 0.4341 - val_accuracy: 0.8172\n",
            "Epoch 97/100\n",
            "13/13 [==============================] - 0s 5ms/step - loss: 0.4307 - accuracy: 0.8179 - val_loss: 0.4342 - val_accuracy: 0.8174\n",
            "Epoch 98/100\n",
            "13/13 [==============================] - 0s 6ms/step - loss: 0.4316 - accuracy: 0.8179 - val_loss: 0.4342 - val_accuracy: 0.8175\n",
            "Epoch 99/100\n",
            "13/13 [==============================] - 0s 5ms/step - loss: 0.4317 - accuracy: 0.8176 - val_loss: 0.4340 - val_accuracy: 0.8167\n",
            "Epoch 100/100\n",
            "13/13 [==============================] - 0s 6ms/step - loss: 0.4303 - accuracy: 0.8184 - val_loss: 0.4341 - val_accuracy: 0.8177\n"
          ],
          "name": "stdout"
        },
        {
          "output_type": "display_data",
          "data": {
            "image/png": "[encoded data removed]",
            "text/plain": [
              "<Figure size 432x288 with 1 Axes>"
            ]
          },
          "metadata": {
            "tags": [],
            "needs_background": "light"
          }
        },
        {
          "output_type": "display_data",
          "data": {
            "image/png": "[encoded data removed]",
            "text/plain": [
              "<Figure size 432x288 with 1 Axes>"
            ]
          },
          "metadata": {
            "tags": [],
            "needs_background": "light"
          }
        }
      ]
    },
    {
      "cell_type": "markdown",
      "metadata": {
        "id": "tdYEEvRnp0fA"
      },
      "source": [
        "Test accuracy stops improving around 60 epochs when accuracy is around 82%. The NN model is slightly better than the other ML classifiers above."
      ]
    },
    {
      "cell_type": "code",
      "metadata": {
        "id": "4SURB3Rxv4a8"
      },
      "source": [
        "# Predicting the defaulters in a specific month.\n",
        "Predict = model.predict_classes(Newdata)"
      ],
      "execution_count": null,
      "outputs": []
    },
    {
      "cell_type": "markdown",
      "metadata": {
        "id": "1UH0MOYZcTVT"
      },
      "source": [
        "Saving the model using JSON"
      ]
    },
    {
      "cell_type": "code",
      "metadata": {
        "id": "Jv5fBH5GcR5v"
      },
      "source": [
        "from keras.models import model_from_json\n",
        "import os\n",
        "\n",
        "# serialize model to jason\n",
        "model_json = model.to_json()\n",
        "with open('model.json', 'w') as json_file:\n",
        "  json_file.write(model_json)\n",
        "\n",
        "# serializing weights to HDF5\n",
        "model.save_weights('model.h5')\n",
        "                    \n",
        "\n"
      ],
      "execution_count": 46,
      "outputs": []
    },
    {
      "cell_type": "code",
      "metadata": {
        "id": "THZBERLpiFEz"
      },
      "source": [
        "# Retriving model\n",
        "json_file = open('model.json', 'r')\n",
        "loaded_model_json = json_file.read()\n",
        "json_file.close()\n",
        "loaded_model = model_from_json(loaded_model_json)\n",
        "\n",
        "# Loading weights\n",
        "loaded_model.load_weights('model.h5')"
      ],
      "execution_count": 47,
      "outputs": []
    },
    {
      "cell_type": "code",
      "metadata": {
        "id": "NAkmspPtkfMq",
        "outputId": "ed2d732a-ff7e-4644-f6aa-cf3846fa5bf6",
        "colab": {
          "base_uri": "https://localhost:8080/",
          "height": 34
        }
      },
      "source": [
        "# Evaluationg the loaded model\n",
        "\n",
        "loaded_model.compile(loss='binary_crossentropy', optimizer='adam', metrics=['accuracy'])\n",
        "\n",
        "score = loaded_model.evaluate(X_test, Y_test, verbose=0)\n",
        "print(\"%s: %.2f%%\" % (loaded_model.metrics_names[1], score[1]*100))"
      ],
      "execution_count": 48,
      "outputs": [
        {
          "output_type": "stream",
          "text": [
            "accuracy: 81.77%\n"
          ],
          "name": "stdout"
        }
      ]
    },
    {
      "cell_type": "markdown",
      "metadata": {
        "id": "2vB9_pZfoh_i"
      },
      "source": [
        "Score is exactly the same as our last score of 81.61%, meaning model was successfully saved."
      ]
    },
    {
      "cell_type": "markdown",
      "metadata": {
        "id": "1TURPSLIsBYi"
      },
      "source": [
        "Deploying the model using TensorFlow Lite."
      ]
    },
    {
      "cell_type": "markdown",
      "metadata": {
        "id": "ILuLu_Vjs-wA"
      },
      "source": [
        "Model deployment in tensorflow lite is done using the steps below"
      ]
    },
    {
      "cell_type": "code",
      "metadata": {
        "id": "94rZXrZO1ZRJ",
        "outputId": "3acb7079-fe5d-4048-a567-d5d2cbef6f86",
        "colab": {
          "base_uri": "https://localhost:8080/",
          "height": 70
        }
      },
      "source": [
        "import tensorflow as tf\n",
        "\n",
        "import pathlib\n",
        "\n",
        "#1 Exporting the saved model\n",
        "\n",
        "export_dir = '/tmp/saved_model'\n",
        "tf.saved_model.save(loaded_model, export_dir=export_dir)\n",
        "\n",
        "#2 Converting model to a TFflatbuffer file with quantizition\n",
        "converter = tf.lite.TFLiteConverter.from_saved_model(export_dir)\n",
        "      # Quantization reduce memory needed without sacrificing speed and accuracy\n",
        "      # Optimize for size optimizes the weights of the model\n",
        "converter.optimizations = [tf.lite.Optimize.OPTIMIZE_FOR_SIZE]\n",
        "tflite_model = converter.convert()\n",
        "\n",
        "#3 Saving the converted model\n",
        "tflite_model_file = pathlib.Path('/tmp/foo.tflite')\n",
        "tflite_model_file.write_bytes(tflite_model)\n",
        "\n"
      ],
      "execution_count": 50,
      "outputs": [
        {
          "output_type": "stream",
          "text": [
            "INFO:tensorflow:Assets written to: /tmp/saved_model/assets\n"
          ],
          "name": "stdout"
        },
        {
          "output_type": "stream",
          "text": [
            "INFO:tensorflow:Assets written to: /tmp/saved_model/assets\n"
          ],
          "name": "stderr"
        },
        {
          "output_type": "execute_result",
          "data": {
            "text/plain": [
              "6240"
            ]
          },
          "metadata": {
            "tags": []
          },
          "execution_count": 50
        }
      ]
    },
    {
      "cell_type": "markdown",
      "metadata": {
        "id": "haCKXPKqBcVv"
      },
      "source": [
        "Testing if model actually work in production by using tensorflow lite interpreter"
      ]
    },
    {
      "cell_type": "code",
      "metadata": {
        "id": "-TZq_tPK0nkE",
        "outputId": "c1b9267b-4bbb-4196-d835-09b09c6722b4",
        "colab": {
          "base_uri": "https://localhost:8080/",
          "height": 34
        }
      },
      "source": [
        "# Loading tflite model to interpreter and allocating tensors\n",
        "interpreter = tf.lite.Interpreter(model_content = tflite_model)\n",
        "interpreter.allocate_tensors()\n",
        "\n",
        "# Get input and outputs tensors\n",
        "input_details = interpreter.get_input_details()\n",
        "output_details = interpreter.get_output_details()\n",
        "\n",
        "# Point the data to be used for testing and run the interpreter\n",
        "interpreter.set_tensor(input_details[0]['index'], X_test[25].reshape(1,23))\n",
        "interpreter.invoke()\n",
        "tflite_results = interpreter.get_tensor(output_details[0]['index'])\n",
        "\n",
        "#Comparing actual y and predicted by our TFlite deployed model\n",
        "print('Model predicted that the label is %.0f, the true label was %.0f' % (tflite_results, Y_test[25]))\n",
        "\n"
      ],
      "execution_count": 79,
      "outputs": [
        {
          "output_type": "stream",
          "text": [
            "Model predicted that the label is 0, the true label was 0\n"
          ],
          "name": "stdout"
        }
      ]
    },
    {
      "cell_type": "markdown",
      "metadata": {
        "id": "meCa0MF3SaUZ"
      },
      "source": [
        "Model correctly predicts the label of the 25th customer is zero. Which means our customer will pay on time in the coming month. Model can now be deployed to device, cloud or web. "
      ]
    },
    {
      "cell_type": "code",
      "metadata": {
        "id": "d2W8BiCYXxuP"
      },
      "source": [
        "# Downloading the TFlite model\n",
        "\n",
        "#try:\n",
        "#  from google.colab import files\n",
        "#  files.download(tflite_model_file)\n",
        "#except:\n",
        "#  pass"
      ],
      "execution_count": null,
      "outputs": []
    }
  ]
}