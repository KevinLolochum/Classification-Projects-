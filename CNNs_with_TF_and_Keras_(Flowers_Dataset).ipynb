{
  "nbformat": 4,
  "nbformat_minor": 0,
  "metadata": {
    "colab": {
      "name": "CNNs with TF and Keras (Flowers Dataset)",
      "provenance": [],
      "authorship_tag": "ABX9TyN7rV83OxDKfp4KG6n00lcD",
      "include_colab_link": true
    },
    "kernelspec": {
      "name": "python3",
      "display_name": "Python 3"
    },
    "accelerator": "GPU"
  },
  "cells": [
    {
      "cell_type": "markdown",
      "metadata": {
        "id": "view-in-github",
        "colab_type": "text"
      },
      "source": [
        "<a href=\"https://colab.research.google.com/github/KevinLolochum/Deep-Learning-TF-Keras-Theano-PyTorch-/blob/master/CNNs_with_TF_and_Keras_(Flowers_Dataset).ipynb\" target=\"_parent\"><img src=\"https://colab.research.google.com/assets/colab-badge.svg\" alt=\"Open In Colab\"/></a>"
      ]
    },
    {
      "cell_type": "markdown",
      "metadata": {
        "id": "9_c5iWNciE69",
        "colab_type": "text"
      },
      "source": [
        "This model classify's the using CNNs. I also do augmentations, dropout and early stopping to prevent overfitting"
      ]
    },
    {
      "cell_type": "markdown",
      "metadata": {
        "id": "Ms78fukD_2Dn",
        "colab_type": "text"
      },
      "source": [
        "Downlading important libraries"
      ]
    },
    {
      "cell_type": "code",
      "metadata": {
        "id": "vBcK5wmBAC-T",
        "colab_type": "code",
        "colab": {}
      },
      "source": [
        "import os\n",
        "import numpy as np\n",
        "import glob\n",
        "import shutil\n",
        "\n",
        "import tensorflow as tf\n",
        "\n",
        "import matplotlib.pyplot as plt"
      ],
      "execution_count": 1,
      "outputs": []
    },
    {
      "cell_type": "code",
      "metadata": {
        "id": "tVOvF27QAT6J",
        "colab_type": "code",
        "colab": {}
      },
      "source": [
        "# Importing important packages\n",
        "from tensorflow.keras.models import Sequential\n",
        "from tensorflow.keras.layers import Flatten, MaxPooling2D, Conv2D, Dropout, Dense\n",
        "from tensorflow.keras.preprocessing.image import ImageDataGenerator"
      ],
      "execution_count": 2,
      "outputs": []
    },
    {
      "cell_type": "code",
      "metadata": {
        "id": "Xw1gvGJAB4U3",
        "colab_type": "code",
        "colab": {
          "base_uri": "https://localhost:8080/",
          "height": 52
        },
        "outputId": "b1674a02-ad18-433c-c1ac-e916e56985fb"
      },
      "source": [
        "# Downloading the dataset\n",
        "_URL = \"https://storage.googleapis.com/download.tensorflow.org/example_images/flower_photos.tgz\"\n",
        "\n",
        "zip_file = tf.keras.utils.get_file(origin=_URL,\n",
        "                                   fname=\"flower_photos.tgz\",\n",
        "                                   extract=True)\n",
        "\n",
        "base_dir = os.path.join(os.path.dirname(zip_file), 'flower_photos')"
      ],
      "execution_count": 3,
      "outputs": [
        {
          "output_type": "stream",
          "text": [
            "Downloading data from https://storage.googleapis.com/download.tensorflow.org/example_images/flower_photos.tgz\n",
            "228818944/228813984 [==============================] - 2s 0us/step\n"
          ],
          "name": "stdout"
        }
      ]
    },
    {
      "cell_type": "code",
      "metadata": {
        "id": "fS-USDPsE1MU",
        "colab_type": "code",
        "colab": {
          "base_uri": "https://localhost:8080/",
          "height": 105
        },
        "outputId": "eebb0c91-640a-42f1-e79d-864da13f90c1"
      },
      "source": [
        "# Creating class labels\n",
        "classes = ['roses', 'daisy', 'dandelion', 'sunflowers', 'tulips']\n",
        "\n",
        "# Moving classes from the original flowers photos folder to train and validation folder and counting the number of flowers we have for each class\n",
        "for cl in classes:\n",
        "  img_path = os.path.join(base_dir, cl)\n",
        "  images = glob.glob(img_path + '/*.jpg')\n",
        "  print(\"{}: {} Images\".format(cl, len(images)))\n",
        "  num_train = int(round(len(images)*0.8))\n",
        "  train, val = images[:num_train], images[num_train:]\n",
        "\n",
        "  for t in train:\n",
        "    if not os.path.exists(os.path.join(base_dir, 'train', cl)):\n",
        "      os.makedirs(os.path.join(base_dir, 'train', cl))\n",
        "    shutil.move(t, os.path.join(base_dir, 'train', cl))\n",
        "\n",
        "  for v in val:\n",
        "    if not os.path.exists(os.path.join(base_dir, 'val', cl)):\n",
        "      os.makedirs(os.path.join(base_dir, 'val', cl))\n",
        "    shutil.move(v, os.path.join(base_dir, 'val', cl))"
      ],
      "execution_count": 4,
      "outputs": [
        {
          "output_type": "stream",
          "text": [
            "roses: 641 Images\n",
            "daisy: 633 Images\n",
            "dandelion: 898 Images\n",
            "sunflowers: 699 Images\n",
            "tulips: 799 Images\n"
          ],
          "name": "stdout"
        }
      ]
    },
    {
      "cell_type": "code",
      "metadata": {
        "id": "3jIJ4XTEoCUA",
        "colab_type": "code",
        "colab": {}
      },
      "source": [
        "#setting up path for training and validation sets\n",
        "train_dir = os.path.join(base_dir, 'train')\n",
        "val_dir = os.path.join(base_dir, 'val')"
      ],
      "execution_count": 5,
      "outputs": []
    },
    {
      "cell_type": "code",
      "metadata": {
        "id": "9tsGcfBSrYK4",
        "colab_type": "code",
        "colab": {}
      },
      "source": [
        "# Setting image shape and batch size\n",
        "BATCH_SIZE = 100\n",
        "IMG_SHAPE = 150"
      ],
      "execution_count": 6,
      "outputs": []
    },
    {
      "cell_type": "code",
      "metadata": {
        "id": "9bGYOYqisChO",
        "colab_type": "code",
        "colab": {
          "base_uri": "https://localhost:8080/",
          "height": 52
        },
        "outputId": "82c0a12a-34db-4fba-d983-3f2fc888e0e3"
      },
      "source": [
        "# Applying this simple augmentations to our training dataset\n",
        "# random 45 degree rotation, random zoom of up to 50%, random horizontal flip, width shift of 0.15 and height shift of 0.15\n",
        "data_gen_args = dict(rescale=1./255,\n",
        "                    horizontal_flip = True,\n",
        "                    rotation_range = 45,\n",
        "                    zoom_range = 0.5,\n",
        "                    height_shift_range = 0.15,\n",
        "                    width_shift_range = 0.15)\n",
        "\n",
        "image_gen_train = ImageDataGenerator(**data_gen_args)\n",
        "\n",
        "train_data_gen = image_gen_train.flow_from_directory(batch_size = BATCH_SIZE,\n",
        "                                                     shuffle = True,\n",
        "                                                     directory = train_dir,\n",
        "                                                     target_size = (IMG_SHAPE, IMG_SHAPE),\n",
        "                                                     class_mode = 'sparse'\n",
        "                                                     )\n",
        "\n",
        "# Test dataset does not require augmentation\n",
        "image_gen_val = ImageDataGenerator(rescale=1./255)\n",
        "\n",
        "val_data_gen = image_gen_val.flow_from_directory(class_mode = 'sparse',\n",
        "                                                 directory = val_dir,\n",
        "                                                 batch_size= BATCH_SIZE,\n",
        "                                                 target_size=(IMG_SHAPE, IMG_SHAPE))\n",
        "\n"
      ],
      "execution_count": 7,
      "outputs": [
        {
          "output_type": "stream",
          "text": [
            "Found 2935 images belonging to 5 classes.\n",
            "Found 735 images belonging to 5 classes.\n"
          ],
          "name": "stdout"
        }
      ]
    },
    {
      "cell_type": "markdown",
      "metadata": {
        "id": "SsVJ0v86-bGB",
        "colab_type": "text"
      },
      "source": [
        "Model creation"
      ]
    },
    {
      "cell_type": "code",
      "metadata": {
        "id": "p0yVHBSq_-QS",
        "colab_type": "code",
        "colab": {}
      },
      "source": [
        "#Creating a CNN model with 4 CONV2D layers and MaxPooling2D layers and a dense output layer with as many neurons as the outputs(5)\n",
        "model = Sequential()\n",
        "\n",
        "model.add(Conv2D(16, 3, padding='same', activation='relu', input_shape=(IMG_SHAPE,IMG_SHAPE, 3)))\n",
        "model.add(MaxPooling2D(pool_size=(2, 2)))\n",
        "\n",
        "model.add(Conv2D(32, 3, padding='same', activation='relu'))\n",
        "model.add(MaxPooling2D(pool_size=(2, 2)))\n",
        "\n",
        "model.add(Conv2D(64, 3, padding='same', activation='relu'))\n",
        "model.add(MaxPooling2D(pool_size=(2, 2)))\n",
        "\n",
        "model.add(Flatten())\n",
        "model.add(Dropout(0.2))\n",
        "model.add(Dense(512, activation='relu'))\n",
        "\n",
        "model.add(Dropout(0.2))\n",
        "model.add(Dense(5))"
      ],
      "execution_count": 8,
      "outputs": []
    },
    {
      "cell_type": "code",
      "metadata": {
        "id": "7K8KLE_66jV-",
        "colab_type": "code",
        "colab": {}
      },
      "source": [
        "# Compile\n",
        "# Adam optimizer is the best for this classification problem\n",
        "model.compile(optimizer='adam',\n",
        "              loss=tf.keras.losses.SparseCategoricalCrossentropy(from_logits=True),\n",
        "              metrics =['accuracy'])"
      ],
      "execution_count": 9,
      "outputs": []
    },
    {
      "cell_type": "markdown",
      "metadata": {
        "id": "6phH58tUHClp",
        "colab_type": "text"
      },
      "source": [
        "Model training"
      ]
    },
    {
      "cell_type": "code",
      "metadata": {
        "id": "y6QCuXBqHAdj",
        "colab_type": "code",
        "colab": {
          "base_uri": "https://localhost:8080/",
          "height": 674
        },
        "outputId": "665a4a24-9560-420c-8f33-516c8db7bc6a"
      },
      "source": [
        "epochs = 80\n",
        "\n",
        "Trained = model.fit_generator(\n",
        "    train_data_gen,\n",
        "    steps_per_epoch=int(np.ceil(train_data_gen.n / float(BATCH_SIZE))),\n",
        "    epochs=epochs,\n",
        "    validation_data=val_data_gen,\n",
        "    validation_steps=int(np.ceil(val_data_gen.n / float(BATCH_SIZE)))\n",
        ")"
      ],
      "execution_count": null,
      "outputs": [
        {
          "output_type": "stream",
          "text": [
            "WARNING:tensorflow:From <ipython-input-10-a2823ed00e4e>:8: Model.fit_generator (from tensorflow.python.keras.engine.training) is deprecated and will be removed in a future version.\n",
            "Instructions for updating:\n",
            "Please use Model.fit, which supports generators.\n",
            "Epoch 1/80\n",
            "30/30 [==============================] - 22s 721ms/step - loss: 1.5678 - accuracy: 0.3247 - val_loss: 1.3025 - val_accuracy: 0.4463\n",
            "Epoch 2/80\n",
            "30/30 [==============================] - 22s 721ms/step - loss: 1.2487 - accuracy: 0.4630 - val_loss: 1.1517 - val_accuracy: 0.5211\n",
            "Epoch 3/80\n",
            "30/30 [==============================] - 22s 722ms/step - loss: 1.1390 - accuracy: 0.5373 - val_loss: 1.0399 - val_accuracy: 0.6095\n",
            "Epoch 4/80\n",
            "30/30 [==============================] - 22s 722ms/step - loss: 1.0363 - accuracy: 0.5908 - val_loss: 1.1952 - val_accuracy: 0.5483\n",
            "Epoch 5/80\n",
            "30/30 [==============================] - 22s 723ms/step - loss: 1.0469 - accuracy: 0.5830 - val_loss: 0.9393 - val_accuracy: 0.6122\n",
            "Epoch 6/80\n",
            "30/30 [==============================] - 22s 726ms/step - loss: 0.9792 - accuracy: 0.6129 - val_loss: 0.9759 - val_accuracy: 0.6272\n",
            "Epoch 7/80\n",
            "30/30 [==============================] - 22s 718ms/step - loss: 0.9337 - accuracy: 0.6266 - val_loss: 0.9521 - val_accuracy: 0.6408\n",
            "Epoch 8/80\n",
            "30/30 [==============================] - 22s 719ms/step - loss: 0.9057 - accuracy: 0.6491 - val_loss: 0.9324 - val_accuracy: 0.6653\n",
            "Epoch 9/80\n",
            "30/30 [==============================] - 22s 726ms/step - loss: 0.8722 - accuracy: 0.6600 - val_loss: 0.9085 - val_accuracy: 0.6517\n",
            "Epoch 10/80\n",
            "30/30 [==============================] - 22s 718ms/step - loss: 0.8813 - accuracy: 0.6596 - val_loss: 0.8832 - val_accuracy: 0.6626\n",
            "Epoch 11/80\n",
            "30/30 [==============================] - 22s 724ms/step - loss: 0.8421 - accuracy: 0.6726 - val_loss: 0.7819 - val_accuracy: 0.7020\n",
            "Epoch 12/80\n",
            "30/30 [==============================] - 22s 722ms/step - loss: 0.8281 - accuracy: 0.6716 - val_loss: 0.7797 - val_accuracy: 0.7088\n",
            "Epoch 13/80\n",
            "30/30 [==============================] - 22s 719ms/step - loss: 0.7989 - accuracy: 0.6872 - val_loss: 0.7574 - val_accuracy: 0.7156\n",
            "Epoch 14/80\n",
            "30/30 [==============================] - 21s 716ms/step - loss: 0.8045 - accuracy: 0.6862 - val_loss: 0.7461 - val_accuracy: 0.7238\n",
            "Epoch 15/80\n",
            "30/30 [==============================] - 21s 709ms/step - loss: 0.7810 - accuracy: 0.6954 - val_loss: 0.7515 - val_accuracy: 0.7197\n",
            "Epoch 16/80\n",
            "30/30 [==============================] - 21s 714ms/step - loss: 0.7479 - accuracy: 0.7080 - val_loss: 0.7596 - val_accuracy: 0.7088\n",
            "Epoch 17/80\n",
            " 8/30 [=======>......................] - ETA: 13s - loss: 0.7758 - accuracy: 0.7088"
          ],
          "name": "stdout"
        }
      ]
    },
    {
      "cell_type": "markdown",
      "metadata": {
        "id": "817JQerdPMk9",
        "colab_type": "text"
      },
      "source": [
        "Plotting the loss function"
      ]
    },
    {
      "cell_type": "code",
      "metadata": {
        "id": "DOCeaj98PIg8",
        "colab_type": "code",
        "colab": {}
      },
      "source": [
        "acc = Trained.history['accuracy']\n",
        "val_acc = Trained.history['val_accuracy']\n",
        "\n",
        "loss = Trained.history['loss']\n",
        "val_loss = Trained.history['val_loss']\n",
        "\n",
        "epochs_range = range(epochs)\n",
        "\n",
        "plt.figure(figsize=(10, 10))\n",
        "plt.subplot(1, 2, 1)\n",
        "plt.plot(epochs_range, acc, label='Training Accuracy')\n",
        "plt.plot(epochs_range, val_acc, label='Validation Accuracy')\n",
        "plt.legend(loc='lower right')\n",
        "plt.title('Training and Validation Accuracy')\n",
        "\n",
        "plt.subplot(1, 2, 2)\n",
        "plt.plot(epochs_range, loss, label='Training Loss')\n",
        "plt.plot(epochs_range, val_loss, label='Validation Loss')\n",
        "plt.legend(loc='upper right')\n",
        "plt.title('Training and Validation Loss')\n",
        "plt.show()"
      ],
      "execution_count": null,
      "outputs": []
    },
    {
      "cell_type": "markdown",
      "metadata": {
        "id": "BP2TfkQxZ0WT",
        "colab_type": "text"
      },
      "source": [
        "Training accuracy is lower than validation accuracy, this is the case because validation images are not augmented, therefore it is a bit easier to classify. After about 50 epochs the training accuracy starts to rise above validation accuracy and validation loss stops improving/rises. This is an indicator that the model is probably starting to overfit. Using early stopping, shown below can prevent this problem."
      ]
    },
    {
      "cell_type": "code",
      "metadata": {
        "id": "q1lIn4vlbWlX",
        "colab_type": "code",
        "colab": {}
      },
      "source": [
        "import tensorflow\n",
        "early_stopping = tensorflow.keras.callbacks.EarlyStopping(patience=15)\n",
        "\n",
        "epochs = 60\n",
        "\n",
        "Trained = model.fit(\n",
        "    train_data_gen,\n",
        "    steps_per_epoch=int(np.ceil(train_data_gen.n / float(BATCH_SIZE))),\n",
        "    epochs=epochs,\n",
        "    validation_data=val_data_gen,\n",
        "    callbacks = [early_stopping],\n",
        "    validation_steps=int(np.ceil(val_data_gen.n / float(BATCH_SIZE)))\n",
        ")"
      ],
      "execution_count": null,
      "outputs": []
    },
    {
      "cell_type": "markdown",
      "metadata": {
        "id": "UC29jZYIhu9U",
        "colab_type": "text"
      },
      "source": [
        ""
      ]
    },
    {
      "cell_type": "markdown",
      "metadata": {
        "id": "zXaZiBOhiBwF",
        "colab_type": "text"
      },
      "source": [
        ""
      ]
    }
  ]
}